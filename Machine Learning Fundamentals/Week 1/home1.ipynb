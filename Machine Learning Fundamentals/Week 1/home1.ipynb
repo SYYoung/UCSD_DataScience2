{
 "cells": [
  {
   "cell_type": "code",
   "execution_count": 1,
   "metadata": {},
   "outputs": [],
   "source": [
    "import numpy as np\n",
    "import matplotlib.pyplot as plt\n",
    "import time\n",
    "\n",
    "%matplotlib inline"
   ]
  },
  {
   "cell_type": "code",
   "execution_count": 2,
   "metadata": {},
   "outputs": [],
   "source": [
    "train_data = np.load('./NN_MNIST/MNIST/train_data.npy')\n",
    "train_labels = np.load('./NN_MNIST/MNIST/train_labels.npy')\n",
    "\n",
    "test_data = np.load('./NN_MNIST/MNIST/test_data.npy')\n",
    "test_labels = np.load('./NN_MNIST/MNIST/test_labels.npy')"
   ]
  },
  {
   "cell_type": "code",
   "execution_count": 3,
   "metadata": {},
   "outputs": [
    {
     "name": "stdout",
     "output_type": "stream",
     "text": [
      "(7500, 784) (7500,) (1000, 784) (1000,)\n"
     ]
    }
   ],
   "source": [
    "print(train_data.shape, train_labels.shape, test_data.shape, test_labels.shape)"
   ]
  },
  {
   "cell_type": "code",
   "execution_count": 6,
   "metadata": {},
   "outputs": [],
   "source": [
    "#help(np.unique)"
   ]
  },
  {
   "cell_type": "code",
   "execution_count": 4,
   "metadata": {},
   "outputs": [
    {
     "name": "stdout",
     "output_type": "stream",
     "text": [
      "{0: 750, 1: 750, 2: 750, 3: 750, 4: 750, 5: 750, 6: 750, 7: 750, 8: 750, 9: 750}\n",
      "{0: 100, 1: 100, 2: 100, 3: 100, 4: 100, 5: 100, 6: 100, 7: 100, 8: 100, 9: 100}\n"
     ]
    }
   ],
   "source": [
    "train_digits, train_counts = np.unique(train_labels, return_counts=True)\n",
    "test_digits, test_counts = np.unique(test_labels, return_counts=True)\n",
    "print(dict(zip(train_digits, train_counts)))\n",
    "print(dict(zip(test_digits, test_counts)))"
   ]
  },
  {
   "cell_type": "code",
   "execution_count": 5,
   "metadata": {},
   "outputs": [
    {
     "data": {
      "image/png": "[encoded data removed]",
      "text/plain": [
       "<Figure size 432x288 with 1 Axes>"
      ]
     },
     "metadata": {
      "needs_background": "light"
     },
     "output_type": "display_data"
    },
    {
     "name": "stdout",
     "output_type": "stream",
     "text": [
      "Label 9\n"
     ]
    },
    {
     "data": {
      "image/png": "[encoded data removed]",
      "text/plain": [
       "<Figure size 432x288 with 1 Axes>"
      ]
     },
     "metadata": {
      "needs_background": "light"
     },
     "output_type": "display_data"
    },
    {
     "name": "stdout",
     "output_type": "stream",
     "text": [
      "Label 0\n"
     ]
    }
   ],
   "source": [
    "def show_digit(x):\n",
    "    plt.axis('off')\n",
    "    plt.imshow(x.reshape(28,28), cmap=plt.cm.gray)\n",
    "    plt.show()\n",
    "    return\n",
    "\n",
    "def vis_image(index, dataset='train'):\n",
    "    if (dataset=='train'):\n",
    "        show_digit(train_data[index,:])\n",
    "        label = train_labels[index]\n",
    "    else:\n",
    "        show_digit(test_data[index,:])\n",
    "        label = test_labels[index]\n",
    "    print(\"Label \" + str(label))\n",
    "    return\n",
    "\n",
    "vis_image(0, 'train')\n",
    "vis_image(0, 'test')"
   ]
  },
  {
   "cell_type": "code",
   "execution_count": 6,
   "metadata": {},
   "outputs": [
    {
     "name": "stdout",
     "output_type": "stream",
     "text": [
      "From 7 to 1:  5357193.0\n"
     ]
    }
   ],
   "source": [
    "def squared_dist(x, y):\n",
    "    return np.sum(np.square(x-y))\n",
    "\n",
    "print(\"From 7 to 1: \", squared_dist(train_data[4,], train_data[5,]))"
   ]
  },
  {
   "cell_type": "code",
   "execution_count": 7,
   "metadata": {},
   "outputs": [],
   "source": [
    "def find_NN(x):\n",
    "    distance = [squared_dist(x, train_data[i,]) for i in range(len(train_labels))]\n",
    "    return np.argmin(distance)\n",
    "\n",
    "def NN_classifier(x):\n",
    "    index = find_NN(x)\n",
    "    return train_labels[index]"
   ]
  },
  {
   "cell_type": "code",
   "execution_count": 8,
   "metadata": {},
   "outputs": [
    {
     "name": "stdout",
     "output_type": "stream",
     "text": [
      "NN classification:  0\n",
      "True label:  0\n",
      "the test image\n"
     ]
    },
    {
     "data": {
      "image/png": "[encoded data removed]",
      "text/plain": [
       "<Figure size 432x288 with 1 Axes>"
      ]
     },
     "metadata": {
      "needs_background": "light"
     },
     "output_type": "display_data"
    },
    {
     "name": "stdout",
     "output_type": "stream",
     "text": [
      "Label 0\n",
      "The nearest neighbor\n"
     ]
    },
    {
     "data": {
      "image/png": "[encoded data removed]",
      "text/plain": [
       "<Figure size 432x288 with 1 Axes>"
      ]
     },
     "metadata": {
      "needs_background": "light"
     },
     "output_type": "display_data"
    },
    {
     "name": "stdout",
     "output_type": "stream",
     "text": [
      "Label 0\n"
     ]
    }
   ],
   "source": [
    "test_case = 0\n",
    "pred_index = NN_classifier(test_data[test_case,])\n",
    "print(\"NN classification: \", pred_index)\n",
    "print(\"True label: \", test_labels[test_case])\n",
    "print(\"the test image\")\n",
    "vis_image(test_case, 'test')\n",
    "print(\"The nearest neighbor\")\n",
    "vis_image(find_NN(test_data[test_case,]), 'train')"
   ]
  },
  {
   "cell_type": "code",
   "execution_count": 9,
   "metadata": {},
   "outputs": [
    {
     "name": "stdout",
     "output_type": "stream",
     "text": [
      "46\n"
     ]
    }
   ],
   "source": [
    "test_predictions = [NN_classifier(test_data[i,]) for i in range(len(test_labels))]\n",
    "err_pos = np.not_equal(test_predictions, test_labels)\n",
    "print(np.sum(err_pos))"
   ]
  },
  {
   "cell_type": "code",
   "execution_count": 12,
   "metadata": {},
   "outputs": [
    {
     "name": "stdout",
     "output_type": "stream",
     "text": [
      "{0: 1, 2: 6, 3: 9, 4: 3, 5: 2, 6: 1, 7: 6, 8: 8, 9: 10}\n"
     ]
    }
   ],
   "source": [
    "e1 = test_labels[err_pos]\n",
    "e1_label, e1_count = np.unique(e1, return_counts=True)\n",
    "print(dict(zip(e1_label, e1_count)))"
   ]
  },
  {
   "cell_type": "code",
   "execution_count": 19,
   "metadata": {},
   "outputs": [
    {
     "name": "stdout",
     "output_type": "stream",
     "text": [
      "[False False False False False False False False False False]\n"
     ]
    }
   ],
   "source": [
    "len(err_pos)\n",
    "print(err_pos[:10])"
   ]
  },
  {
   "cell_type": "code",
   "execution_count": 21,
   "metadata": {},
   "outputs": [],
   "source": [
    "wrong_ind = [i for i in range(len(test_labels)) if err_pos[i]]\n",
    "#wrong_ind"
   ]
  },
  {
   "cell_type": "code",
   "execution_count": 70,
   "metadata": {},
   "outputs": [
    {
     "name": "stdout",
     "output_type": "stream",
     "text": [
      "predicted:  5\n"
     ]
    },
    {
     "data": {
      "image/png": "[encoded data removed]",
      "text/plain": [
       "<Figure size 432x288 with 1 Axes>"
      ]
     },
     "metadata": {
      "needs_background": "light"
     },
     "output_type": "display_data"
    },
    {
     "name": "stdout",
     "output_type": "stream",
     "text": [
      "Label 3\n"
     ]
    }
   ],
   "source": [
    "ind = wrong_ind[45]\n",
    "print('predicted: ', test_predictions[ind])\n",
    "vis_image(ind, 'test')"
   ]
  },
  {
   "cell_type": "code",
   "execution_count": 71,
   "metadata": {},
   "outputs": [],
   "source": [
    "from sklearn.neighbors import BallTree"
   ]
  },
  {
   "cell_type": "code",
   "execution_count": 72,
   "metadata": {},
   "outputs": [],
   "source": [
    "ball_tree = BallTree(train_data)"
   ]
  },
  {
   "cell_type": "code",
   "execution_count": 73,
   "metadata": {},
   "outputs": [
    {
     "name": "stdout",
     "output_type": "stream",
     "text": [
      "Help on function squeeze in module numpy:\n",
      "\n",
      "squeeze(a, axis=None)\n",
      "    Remove single-dimensional entries from the shape of an array.\n",
      "    \n",
      "    Parameters\n",
      "    ----------\n",
      "    a : array_like\n",
      "        Input data.\n",
      "    axis : None or int or tuple of ints, optional\n",
      "        .. versionadded:: 1.7.0\n",
      "    \n",
      "        Selects a subset of the single-dimensional entries in the\n",
      "        shape. If an axis is selected with shape entry greater than\n",
      "        one, an error is raised.\n",
      "    \n",
      "    Returns\n",
      "    -------\n",
      "    squeezed : ndarray\n",
      "        The input array, but with all or a subset of the\n",
      "        dimensions of length 1 removed. This is always `a` itself\n",
      "        or a view into `a`.\n",
      "    \n",
      "    Raises\n",
      "    ------\n",
      "    ValueError\n",
      "        If `axis` is not `None`, and an axis being squeezed is not of length 1\n",
      "    \n",
      "    See Also\n",
      "    --------\n",
      "    expand_dims : The inverse operation, adding singleton dimensions\n",
      "    reshape : Insert, remove, and combine dimensions, and resize existing ones\n",
      "    \n",
      "    Examples\n",
      "    --------\n",
      "    >>> x = np.array([[[0], [1], [2]]])\n",
      "    >>> x.shape\n",
      "    (1, 3, 1)\n",
      "    >>> np.squeeze(x).shape\n",
      "    (3,)\n",
      "    >>> np.squeeze(x, axis=0).shape\n",
      "    (3, 1)\n",
      "    >>> np.squeeze(x, axis=1).shape\n",
      "    Traceback (most recent call last):\n",
      "    ...\n",
      "    ValueError: cannot select an axis to squeeze out which has size not equal to one\n",
      "    >>> np.squeeze(x, axis=2).shape\n",
      "    (1, 3)\n",
      "\n"
     ]
    }
   ],
   "source": [
    "help(np.squeeze)"
   ]
  },
  {
   "cell_type": "code",
   "execution_count": null,
   "metadata": {},
   "outputs": [],
   "source": [
    "from sklearn.neighbors import BallTree\n",
    "\n",
    "## Build nearest neighbor structure on training data\n",
    "t_before = time.time()\n",
    "ball_tree = BallTree(train_data)\n",
    "t_after = time.time()\n",
    "\n",
    "## Compute training time\n",
    "t_training = t_after - t_before\n",
    "print(\"Time to build data structure (seconds): \", t_training)\n",
    "\n",
    "## Get nearest neighbor predictions on testing data\n",
    "t_before = time.time()\n",
    "test_neighbors = np.squeeze(ball_tree.query(test_data, k=1, return_distance=False))\n",
    "ball_tree_predictions = train_labels[test_neighbors]\n",
    "t_after = time.time()\n",
    "\n",
    "## Compute testing time\n",
    "t_testing = t_after - t_before\n",
    "print(\"Time to classify test set (seconds): \", t_testing)\n",
    "\n",
    "## Verify that the predictions are the same\n",
    "print(\"Ball tree produces same predictions as above? \", np.array_equal(test_predictions, ball_tree_predictions))"
   ]
  }
 ],
 "metadata": {
  "kernelspec": {
   "display_name": "Python 3",
   "language": "python",
   "name": "python3"
  },
  "language_info": {
   "codemirror_mode": {
    "name": "ipython",
    "version": 3
   },
   "file_extension": ".py",
   "mimetype": "text/x-python",
   "name": "python",
   "nbconvert_exporter": "python",
   "pygments_lexer": "ipython3",
   "version": "3.7.3"
  }
 },
 "nbformat": 4,
 "nbformat_minor": 2
}
