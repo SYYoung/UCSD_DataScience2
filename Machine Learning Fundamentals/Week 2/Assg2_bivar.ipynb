{
 "cells": [
  {
   "cell_type": "code",
   "execution_count": 2,
   "metadata": {},
   "outputs": [],
   "source": [
    "%matplotlib inline\n",
    "import numpy as np\n",
    "import matplotlib.pyplot as plt\n",
    "from scipy.stats import multivariate_normal\n",
    "import ipywidgets as widgets\n",
    "from IPython.display import display\n",
    "from ipywidgets import interact, interactive, fixed, interact_manual, IntSlider"
   ]
  },
  {
   "cell_type": "code",
   "execution_count": 5,
   "metadata": {},
   "outputs": [
    {
     "data": {
      "application/vnd.jupyter.widget-view+json": {
       "model_id": "7bf5208b53204b04b2b82af4be5c8549",
       "version_major": 2,
       "version_minor": 0
      },
      "text/html": [
       "<p>Failed to display Jupyter Widget of type <code>interactive</code>.</p>\n",
       "<p>\n",
       "  If you're reading this message in the Jupyter Notebook or JupyterLab Notebook, it may mean\n",
       "  that the widgets JavaScript is still loading. If this message persists, it\n",
       "  likely means that the widgets JavaScript library is either not installed or\n",
       "  not enabled. See the <a href=\"https://ipywidgets.readthedocs.io/en/stable/user_install.html\">Jupyter\n",
       "  Widgets Documentation</a> for setup instructions.\n",
       "</p>\n",
       "<p>\n",
       "  If you're reading this message in another frontend (for example, a static\n",
       "  rendering on GitHub or <a href=\"https://nbviewer.jupyter.org/\">NBViewer</a>),\n",
       "  it may mean that your frontend doesn't currently support widgets.\n",
       "</p>\n"
      ],
      "text/plain": [
       "interactive(children=(IntSlider(value=5, description='var1', max=9, min=1), IntSlider(value=5, description='var2', max=9, min=1), FloatSlider(value=-0.04999999999999993, description='corr', max=0.95, min=-0.95, step=0.05), Button(description='Run Interact', style=ButtonStyle()), Output()), _dom_classes=('widget-interact',))"
      ]
     },
     "metadata": {},
     "output_type": "display_data"
    }
   ],
   "source": [
    "@interact_manual(var1=(1,9), var2=(1,9), corr=(-0.95,0.95,0.05))\n",
    "def bivariate_plot(var1, var2, corr):\n",
    "    mu = [0,0]\n",
    "    covariance = corr * np.sqrt(var1) * np.sqrt(var2)\n",
    "    sigma = [[var1, covariance], [covariance, var2]]\n",
    "    np.set_printoptions(precision=2)\n",
    "    print(\"Covariance matrix:\")\n",
    "    print(np.around(sigma, decimals=2))\n",
    "    \n",
    "    n = 100\n",
    "    x = np.random.multivariate_normal(mu, sigma, size=n)\n",
    "    lim = 10.0\n",
    "    plt.xlim(-lim, lim)\n",
    "    plt.ylim(-lim, lim)\n",
    "    plt.axes().set_aspect('equal', 'datalim')\n",
    "    \n",
    "    plt.plot(x[:,0],x[:,1], 'bo')\n",
    "    \n",
    "    res = 200\n",
    "    xg = np.linspace(-lim, lim, res)\n",
    "    yg = np.linspace(-lim, lim, res)\n",
    "    z = np.zeros((res, res))\n",
    "    rv = multivariate_normal(mean=mu, cov=sigma)\n",
    "    for i in range(0, res):\n",
    "        for j in range(0, res):\n",
    "            z[j,i] = rv.logpdf([xg[i], yg[j]])\n",
    "    sign, logdet = np.linalg.slogdet(sigma)\n",
    "    normalizer = -0.5 * ( 2 * np.log(6.28) + sign*logdet)\n",
    "    for offset in range(1,4):\n",
    "        plt.contour(xg,yg,z,levels=[normalizer-offset],colors='r',\n",
    "                   linewidth=2.0, linestyle='solid')\n",
    "    plt.show()"
   ]
  },
  {
   "cell_type": "code",
   "execution_count": 4,
   "metadata": {
    "collapsed": true
   },
   "outputs": [],
   "source": [
    "## perfect circles: covariance = 0\n",
    "## tilted upwards: covariance > 0\n",
    "## tilted downwards: covariance < 0\n",
    "## if no tilt, vertical stretch=2*horizontal stretch, what is covariance matrix"
   ]
  },
  {
   "cell_type": "code",
   "execution_count": null,
   "metadata": {
    "collapsed": true
   },
   "outputs": [],
   "source": []
  }
 ],
 "metadata": {
  "kernelspec": {
   "display_name": "Python 3",
   "language": "python",
   "name": "python3"
  },
  "language_info": {
   "codemirror_mode": {
    "name": "ipython",
    "version": 3
   },
   "file_extension": ".py",
   "mimetype": "text/x-python",
   "name": "python",
   "nbconvert_exporter": "python",
   "pygments_lexer": "ipython3",
   "version": "3.5.4"
  }
 },
 "nbformat": 4,
 "nbformat_minor": 2
}
