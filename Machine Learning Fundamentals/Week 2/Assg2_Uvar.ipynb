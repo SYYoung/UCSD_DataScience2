{
 "cells": [
  {
   "cell_type": "code",
   "execution_count": 21,
   "metadata": {},
   "outputs": [],
   "source": [
    "import numpy as np\n",
    "import matplotlib.pyplot as plt\n",
    "from scipy.stats import norm, multivariate_normal\n",
    "import ipywidgets as widgets\n",
    "from IPython.display import display\n",
    "from ipywidgets import interact, interactive, fixed, interact_manual, IntSlider\n",
    "%matplotlib inline"
   ]
  },
  {
   "cell_type": "code",
   "execution_count": 3,
   "metadata": {
    "collapsed": true
   },
   "outputs": [],
   "source": [
    "data = np.loadtxt('./wine.data.txt', delimiter=',')\n",
    "featurenames = ['Alcohol', 'Malic acid', 'Ash', 'Alcalinity of ash','Magnesium', 'Total phenols', \n",
    "                'Flavanoids', 'Nonflavanoid phenols', 'Proanthocyanins', 'Color intensity', 'Hue', \n",
    "                'OD280/OD315 of diluted wines', 'Proline']"
   ]
  },
  {
   "cell_type": "code",
   "execution_count": 13,
   "metadata": {},
   "outputs": [
    {
     "name": "stdout",
     "output_type": "stream",
     "text": [
      "178 14\n"
     ]
    }
   ],
   "source": [
    "print(data.shape[0], data.shape[1])\n",
    "\n",
    "whole_size = data.shape[0]\n",
    "train_size = 130\n",
    "feature_size = data.shape[1]\n",
    "\n",
    "np.random.seed(0)\n",
    "perm = np.random.permutation(whole_size)\n",
    "trainx = data[perm[0:train_size], 1:feature_size]\n",
    "trainy = data[perm[0:130],0]\n",
    "testx = data[perm[train_size:],1:feature_size]\n",
    "testy = data[perm[train_size:], 0]"
   ]
  },
  {
   "cell_type": "code",
   "execution_count": 14,
   "metadata": {},
   "outputs": [
    {
     "name": "stdout",
     "output_type": "stream",
     "text": [
      "(130, 13) (130,) (48, 13) (48,)\n"
     ]
    }
   ],
   "source": [
    "print(trainx.shape, trainy.shape, testx.shape, testy.shape)"
   ]
  },
  {
   "cell_type": "code",
   "execution_count": 15,
   "metadata": {},
   "outputs": [
    {
     "data": {
      "text/plain": [
       "(43, 54, 33)"
      ]
     },
     "execution_count": 15,
     "metadata": {},
     "output_type": "execute_result"
    }
   ],
   "source": [
    "sum(trainy==1), sum(trainy==2), sum(trainy==3)"
   ]
  },
  {
   "cell_type": "markdown",
   "metadata": {},
   "source": [
    "## Question: there are class 1: 43, class 2: 54, class 3: 33"
   ]
  },
  {
   "cell_type": "code",
   "execution_count": 22,
   "metadata": {},
   "outputs": [
    {
     "data": {
      "text/plain": [
       "(array([ 1.,  7.,  4.,  6.,  7.,  1., 10.,  5.,  0.,  2.]),\n",
       " array([12.85 , 13.048, 13.246, 13.444, 13.642, 13.84 , 14.038, 14.236,\n",
       "        14.434, 14.632, 14.83 ]),\n",
       " <a list of 10 Patch objects>)"
      ]
     },
     "execution_count": 22,
     "metadata": {},
     "output_type": "execute_result"
    },
    {
     "data": {
      "image/png": "[encoded data removed]",
      "text/plain": [
       "<Figure size 432x288 with 1 Axes>"
      ]
     },
     "metadata": {},
     "output_type": "display_data"
    }
   ],
   "source": [
    "class1 = trainx[trainy==1]\n",
    "plt.hist(class1[:,0])"
   ]
  },
  {
   "cell_type": "code",
   "execution_count": 23,
   "metadata": {},
   "outputs": [
    {
     "name": "stderr",
     "output_type": "stream",
     "text": [
      "Widget Javascript not detected.  It may not be installed or enabled properly.\n"
     ]
    },
    {
     "data": {
      "application/vnd.jupyter.widget-view+json": {
       "model_id": "9715387b3efd40fab8180f24db807257"
      }
     },
     "metadata": {},
     "output_type": "display_data"
    }
   ],
   "source": [
    "@interact_manual(feature=IntSlider(0,0,12), label=IntSlider(1,1,3))\n",
    "def density_plot(feature, label):\n",
    "    plt.hist(trainx[trainy==label,feature], normed=True)\n",
    "    mu = np.mean(trainx[trainy==label,feature])\n",
    "    var = np.var(trainx[trainy==label,feature])\n",
    "    std = np.sqrt(var)\n",
    "    \n",
    "    x_axis = np.linspace(mu-3*std, mu+3*std, 1000)\n",
    "    plt.plot(x_axis, norm.pdf(x_axis,mu,std), 'r', lw=2)\n",
    "    plt.title(\"Winery \"+str(label))\n",
    "    plt.xlabel(featurenames[feature], fontsize=14, color='red')\n",
    "    plt.ylabel('Density', fontsize=14, color='red')\n",
    "    plt.show()"
   ]
  },
  {
   "cell_type": "code",
   "execution_count": 29,
   "metadata": {},
   "outputs": [
    {
     "name": "stdout",
     "output_type": "stream",
     "text": [
      "[0.482962509196465, 0.6567567855698971, 0.19176727828566711, 2.45766535216538, 10.884019077609793, 0.3437341470851615, 0.3903964785857551, 0.05964288894974403, 0.45327436810974586, 1.2246337627607105, 0.11543320245628266, 0.3558463277565554, 220.10397267776506]\n",
      "min var is:  7  ,  Nonflavanoid phenols\n",
      "max var is:  12  ,  Proline\n"
     ]
    }
   ],
   "source": [
    "std_feature = [np.std(trainx[trainy==1,i]) for i in range(0,13)]\n",
    "print(std_feature)\n",
    "ind_min = std_feature.index(min(std_feature))\n",
    "ind_max = std_feature.index(max(std_feature))\n",
    "print('min var is: ', ind_min, ' , ', featurenames[ind_min])\n",
    "print('max var is: ', ind_max, ' , ', featurenames[ind_max])"
   ]
  },
  {
   "cell_type": "markdown",
   "metadata": {},
   "source": [
    "## for class 1, the min variance is feature=Nonflavanoid phenols, the max variance is feature = Proline"
   ]
  },
  {
   "cell_type": "code",
   "execution_count": 31,
   "metadata": {
    "collapsed": true
   },
   "outputs": [],
   "source": [
    "# define a function to fit Gaussian\n",
    "def fit_generative_model(x,y,feature):\n",
    "    k = 3\n",
    "    mu = np.zeros(k+1)\n",
    "    var = np.zeros(k+1)\n",
    "    pi = np.zeros(k+1)\n",
    "    for label in range(1,k+1):\n",
    "        indices = (y==label)\n",
    "        mu[label] = np.mean(x[indices, feature])\n",
    "        var[label] = np.var(x[indices, feature])\n",
    "        pi[label] = float(sum(indices))/float(len(y))\n",
    "    return mu,var,pi"
   ]
  },
  {
   "cell_type": "code",
   "execution_count": 33,
   "metadata": {},
   "outputs": [
    {
     "name": "stdout",
     "output_type": "stream",
     "text": [
      "[0.33076923 0.41538462 0.25384615]\n"
     ]
    }
   ],
   "source": [
    "feature = 0 # 'alcohol'\n",
    "mu, var, pi = fit_generative_model(trainx, trainy, feature)\n",
    "print(pi[1:])"
   ]
  },
  {
   "cell_type": "code",
   "execution_count": null,
   "metadata": {
    "collapsed": true
   },
   "outputs": [],
   "source": []
  }
 ],
 "metadata": {
  "kernelspec": {
   "display_name": "Python 3",
   "language": "python",
   "name": "python3"
  },
  "language_info": {
   "codemirror_mode": {
    "name": "ipython",
    "version": 3
   },
   "file_extension": ".py",
   "mimetype": "text/x-python",
   "name": "python",
   "nbconvert_exporter": "python",
   "pygments_lexer": "ipython3",
   "version": "3.5.4"
  }
 },
 "nbformat": 4,
 "nbformat_minor": 2
}
