{
 "cells": [
  {
   "cell_type": "code",
   "execution_count": 1,
   "metadata": {
    "collapsed": true
   },
   "outputs": [],
   "source": [
    "%matplotlib inline\n",
    "import numpy as np\n",
    "import matplotlib.pyplot as plt\n",
    "from scipy.stats import norm, multivariate_normal\n",
    "import ipywidgets as widgets\n",
    "from IPython.display import display\n",
    "from ipywidgets import interact, interactive, fixed, interact_manual, IntSlider"
   ]
  },
  {
   "cell_type": "code",
   "execution_count": 2,
   "metadata": {
    "collapsed": true
   },
   "outputs": [],
   "source": [
    "data = np.loadtxt('./wine.data.txt', delimiter=',')\n",
    "featurenames = ['Alcohol', 'Malic acid', 'Ash', 'Alcalinity of ash','Magnesium', 'Total phenols', \n",
    "                'Flavanoids', 'Nonflavanoid phenols', 'Proanthocyanins', 'Color intensity', 'Hue', \n",
    "                'OD280/OD315 of diluted wines', 'Proline']\n",
    "train_size = 130\n",
    "np.random.seed(0)\n",
    "perm = np.random.permutation(data.shape[0])\n",
    "trainx = data[perm[:train_size],1:14]\n",
    "trainy = data[perm[:train_size],0]\n",
    "testx = data[perm[train_size:],1:14]\n",
    "testy = data[perm[train_size:],0]"
   ]
  },
  {
   "cell_type": "code",
   "execution_count": 3,
   "metadata": {},
   "outputs": [
    {
     "name": "stdout",
     "output_type": "stream",
     "text": [
      "(130, 13) (130,) (48, 13) (48,)\n"
     ]
    }
   ],
   "source": [
    "print(trainx.shape, trainy.shape, testx.shape, testy.shape)"
   ]
  },
  {
   "cell_type": "code",
   "execution_count": 4,
   "metadata": {
    "collapsed": true
   },
   "outputs": [],
   "source": [
    "#help(np.cov)\n",
    "def fit_guassian(x, features):\n",
    "    mu = np.mean(x[:,features], axis=0)\n",
    "    covar = np.cov(x[:,features], rowvar=0, bias=1)\n",
    "    return mu, covar"
   ]
  },
  {
   "cell_type": "code",
   "execution_count": 5,
   "metadata": {},
   "outputs": [
    {
     "name": "stdout",
     "output_type": "stream",
     "text": [
      "Mean: [13.78534884  2.99627907]\n",
      "Covariance matrix: [[0.23325279 0.07526874]\n",
      " [0.07526874 0.15240941]]\n"
     ]
    }
   ],
   "source": [
    "f1 = 0\n",
    "f2 = 6\n",
    "label = 1\n",
    "mu, covar = fit_guassian(trainx[trainy==label,:], [f1,f2])\n",
    "print(\"Mean: \" + str(mu))\n",
    "print(\"Covariance matrix: \" + str(covar))"
   ]
  },
  {
   "cell_type": "code",
   "execution_count": 6,
   "metadata": {
    "collapsed": true
   },
   "outputs": [],
   "source": [
    "def find_range(x):\n",
    "    lower = min(x)\n",
    "    upper = max(x)\n",
    "    width = upper - lower\n",
    "    lower = lower - 0.2*width\n",
    "    upper = upper + 0.2*width\n",
    "    return lower, upper"
   ]
  },
  {
   "cell_type": "code",
   "execution_count": 7,
   "metadata": {
    "collapsed": true
   },
   "outputs": [],
   "source": [
    "def plot_contours(mu, cov, x1g, x2g, col):\n",
    "    rv = multivariate_normal(mean=mu, cov=cov)\n",
    "    z = np.zeros((len(x1g), len(x2g)))\n",
    "    for i in range(0, len(x1g)):\n",
    "        for j in range(0, len(x2g)):\n",
    "            z[j,i] = rv.logpdf([x1g[i],x2g[j]])\n",
    "    sign, logdet = np.linalg.slogdet(cov)\n",
    "    normalizer = -0.5 * (2*np.log(6.28) + sign*logdet)\n",
    "    for offset in range(1,4):\n",
    "        plt.contour(x1g,x2g,z,levels=[normalizer-offset],colors=col,\n",
    "                   linewidth=2.0, linestyles='solid')"
   ]
  },
  {
   "cell_type": "code",
   "execution_count": 8,
   "metadata": {},
   "outputs": [
    {
     "data": {
      "application/vnd.jupyter.widget-view+json": {
       "model_id": "91c2310d087c4396894bff7dc279ed29",
       "version_major": 2,
       "version_minor": 0
      },
      "text/html": [
       "<p>Failed to display Jupyter Widget of type <code>interactive</code>.</p>\n",
       "<p>\n",
       "  If you're reading this message in the Jupyter Notebook or JupyterLab Notebook, it may mean\n",
       "  that the widgets JavaScript is still loading. If this message persists, it\n",
       "  likely means that the widgets JavaScript library is either not installed or\n",
       "  not enabled. See the <a href=\"https://ipywidgets.readthedocs.io/en/stable/user_install.html\">Jupyter\n",
       "  Widgets Documentation</a> for setup instructions.\n",
       "</p>\n",
       "<p>\n",
       "  If you're reading this message in another frontend (for example, a static\n",
       "  rendering on GitHub or <a href=\"https://nbviewer.jupyter.org/\">NBViewer</a>),\n",
       "  it may mean that your frontend doesn't currently support widgets.\n",
       "</p>\n"
      ],
      "text/plain": [
       "interactive(children=(IntSlider(value=0, description='f1', max=12), IntSlider(value=6, description='f2', max=12), IntSlider(value=1, description='label', max=3, min=1), Button(description='Run Interact', style=ButtonStyle()), Output()), _dom_classes=('widget-interact',))"
      ]
     },
     "metadata": {},
     "output_type": "display_data"
    }
   ],
   "source": [
    "@interact_manual(f1=IntSlider(0,0,12,1), f2=IntSlider(6,0,12,1), label=IntSlider(1,1,3,1))\n",
    "def two_features_plot(f1, f2, label):\n",
    "    if f1==f2:\n",
    "        print(\"Please choose different features for f1 and f2.\")\n",
    "        return\n",
    "    x1_lower, x1_upper = find_range(trainx[trainy==label,f1])\n",
    "    x2_lower, x2_upper = find_range(trainx[trainy==label,f2])\n",
    "    plt.xlim(x1_lower, x1_upper)\n",
    "    plt.ylim(x2_lower, x2_upper)\n",
    "    plt.plot(trainx[trainy==label,f1], trainx[trainy==label,f2], 'ro')\n",
    "    \n",
    "    res = 200\n",
    "    x1g = np.linspace(x1_lower, x1_upper, res)\n",
    "    x2g = np.linspace(x2_lower, x2_upper, res)\n",
    "    \n",
    "    mu,cov = fit_guassian(trainx[trainy==label,:],[f1,f2])\n",
    "    plot_contours(mu, cov, x1g, x2g, 'k')\n",
    "    \n",
    "    plt.xlabel(featurenames[f1], fontsize=14, color='red')\n",
    "    plt.ylabel(featurenames[f2], fontsize=14, color='red')\n",
    "    plt.title('Class ' + str(label), fontsize=14, color='blue')\n",
    "    plt.show()"
   ]
  },
  {
   "cell_type": "code",
   "execution_count": 9,
   "metadata": {
    "collapsed": true
   },
   "outputs": [],
   "source": [
    "def fit_generative_model(x, y, features):\n",
    "    k = 3\n",
    "    d = len(features)\n",
    "    mu = np.zeros((k+1,d))\n",
    "    covar = np.zeros((k+1,d,d))\n",
    "    pi = np.zeros(k+1)\n",
    "    for label in range(1, k+1):\n",
    "        indices = (y==label)\n",
    "        mu[label,:],covar[label,:,:] = fit_guassian(x[indices,:],features)\n",
    "        pi[label] = float(sum(indices))/float(len(y))\n",
    "    return mu, covar, pi"
   ]
  },
  {
   "cell_type": "code",
   "execution_count": 10,
   "metadata": {},
   "outputs": [
    {
     "data": {
      "application/vnd.jupyter.widget-view+json": {
       "model_id": "c3633dda08544da18081f0b2702ff37d",
       "version_major": 2,
       "version_minor": 0
      },
      "text/html": [
       "<p>Failed to display Jupyter Widget of type <code>interactive</code>.</p>\n",
       "<p>\n",
       "  If you're reading this message in the Jupyter Notebook or JupyterLab Notebook, it may mean\n",
       "  that the widgets JavaScript is still loading. If this message persists, it\n",
       "  likely means that the widgets JavaScript library is either not installed or\n",
       "  not enabled. See the <a href=\"https://ipywidgets.readthedocs.io/en/stable/user_install.html\">Jupyter\n",
       "  Widgets Documentation</a> for setup instructions.\n",
       "</p>\n",
       "<p>\n",
       "  If you're reading this message in another frontend (for example, a static\n",
       "  rendering on GitHub or <a href=\"https://nbviewer.jupyter.org/\">NBViewer</a>),\n",
       "  it may mean that your frontend doesn't currently support widgets.\n",
       "</p>\n"
      ],
      "text/plain": [
       "interactive(children=(IntSlider(value=0, description='f1', max=12), IntSlider(value=6, description='f2', max=12), Button(description='Run Interact', style=ButtonStyle()), Output()), _dom_classes=('widget-interact',))"
      ]
     },
     "metadata": {},
     "output_type": "display_data"
    }
   ],
   "source": [
    "@interact_manual(f1=IntSlider(0,0,12,1), f2=IntSlider(6,0,12,1))\n",
    "def three_class_plot(f1, f2):\n",
    "    if f1==f2:\n",
    "        print(\"Please choose different features for f1 and f2.\")\n",
    "        return\n",
    "    x1_lower, x1_upper = find_range(trainx[:,f1])\n",
    "    x2_lower, x2_upper = find_range(trainx[:,f2])\n",
    "    plt.xlim(x1_lower, x1_upper)\n",
    "    plt.ylim(x2_lower, x2_upper)\n",
    "    \n",
    "    colors = ['r','k','g']\n",
    "    for label in range(1,4):\n",
    "        plt.plot(trainx[trainy==label,f1],trainx[trainy==label,f2],marker='o',ls='None',\n",
    "                c=colors[label-1])\n",
    "        \n",
    "    res = 200\n",
    "    x1g = np.linspace(x1_lower, x1_upper, res)\n",
    "    x2g = np.linspace(x2_lower, x2_upper, res)\n",
    "    \n",
    "    mu, covar, pi = fit_generative_model(trainx, trainy, [f1,f2])\n",
    "    for label in range(1,4):\n",
    "        gmean = mu[label,:]\n",
    "        gcov = covar[label,:,:]\n",
    "        plot_contours(gmean, gcov, x1g, x2g, colors[label-1])\n",
    "        \n",
    "    plt.xlabel(featurenames[f1], fontsize=14, color='red')\n",
    "    plt.ylabel(featurenames[f2], fontsize=14, color='red')\n",
    "    plt.title('Wind data', fontsize=14, color='blue')\n",
    "    plt.show()"
   ]
  },
  {
   "cell_type": "markdown",
   "metadata": {
    "collapsed": true
   },
   "source": [
    "## 4. Predict labels for the test points"
   ]
  },
  {
   "cell_type": "code",
   "execution_count": 37,
   "metadata": {
    "collapsed": true
   },
   "outputs": [],
   "source": [
    "#@interact(f1 = IntSlider(0,0,12,1), f2 = IntSlider(6,0,12,1))\n",
    "def test_model(f1, f2):\n",
    "    if f1==f2:\n",
    "        print(\"Please choose different features for f1 and f2.\")\n",
    "        return\n",
    "    features = [f1, f2]\n",
    "    mu, covar, pi = fit_generative_model(trainx, trainy, features)\n",
    "    \n",
    "    k = 3\n",
    "    nt = len(testy)\n",
    "    score = np.zeros((nt, k+1))\n",
    "    for i in range(0, nt):\n",
    "        for label in range(1, k+1):\n",
    "            score[i,label] = np.log(pi[label]) + \\\n",
    "            multivariate_normal.logpdf(testx[i,features], mean=mu[label,:],\n",
    "                                       cov=covar[label,:,:])\n",
    "    predictions = np.argmax(score[:,1:4], axis=1) + 1\n",
    "    errors = np.sum(predictions != testy)\n",
    "    print(\"Test error using features(s):\")\n",
    "    for f in features:\n",
    "            print(\"'\" + featurenames[f] + \"'\" + \" \")\n",
    "    print(\"Errors: \" + str(errors) + \"/\" + str(nt))\n",
    "    return errors"
   ]
  },
  {
   "cell_type": "code",
   "execution_count": 17,
   "metadata": {},
   "outputs": [
    {
     "data": {
      "text/plain": [
       "13"
      ]
     },
     "execution_count": 17,
     "metadata": {},
     "output_type": "execute_result"
    }
   ],
   "source": [
    "len(featurenames)"
   ]
  },
  {
   "cell_type": "code",
   "execution_count": 49,
   "metadata": {},
   "outputs": [
    {
     "name": "stdout",
     "output_type": "stream",
     "text": [
      "Test error using features(s):\n",
      "'Alcohol' \n",
      "'Malic acid' \n",
      "Errors: 9/48\n",
      "9.0\n",
      "Test error using features(s):\n",
      "'Alcohol' \n",
      "'Ash' \n",
      "Errors: 12/48\n",
      "12.0\n",
      "Test error using features(s):\n",
      "'Alcohol' \n",
      "'Alcalinity of ash' \n",
      "Errors: 9/48\n",
      "9.0\n",
      "Test error using features(s):\n",
      "'Alcohol' \n",
      "'Magnesium' \n",
      "Errors: 14/48\n",
      "14.0\n",
      "Test error using features(s):\n",
      "'Alcohol' \n",
      "'Total phenols' \n",
      "Errors: 5/48\n",
      "5.0\n",
      "Test error using features(s):\n",
      "'Alcohol' \n",
      "'Flavanoids' \n",
      "Errors: 4/48\n",
      "4.0\n",
      "Test error using features(s):\n",
      "'Alcohol' \n",
      "'Nonflavanoid phenols' \n",
      "Errors: 10/48\n",
      "10.0\n",
      "Test error using features(s):\n",
      "'Alcohol' \n",
      "'Proanthocyanins' \n",
      "Errors: 8/48\n",
      "8.0\n",
      "Test error using features(s):\n",
      "'Alcohol' \n",
      "'Color intensity' \n",
      "Errors: 8/48\n",
      "8.0\n",
      "Test error using features(s):\n",
      "'Alcohol' \n",
      "'Hue' \n",
      "Errors: 6/48\n",
      "6.0\n",
      "Test error using features(s):\n",
      "'Alcohol' \n",
      "'OD280/OD315 of diluted wines' \n",
      "Errors: 5/48\n",
      "5.0\n",
      "Test error using features(s):\n",
      "'Alcohol' \n",
      "'Proline' \n",
      "Errors: 9/48\n",
      "9.0\n",
      "Test error using features(s):\n",
      "'Malic acid' \n",
      "'Ash' \n",
      "Errors: 22/48\n",
      "22.0\n",
      "Test error using features(s):\n",
      "'Malic acid' \n",
      "'Alcalinity of ash' \n",
      "Errors: 16/48\n",
      "16.0\n",
      "Test error using features(s):\n",
      "'Malic acid' \n",
      "'Magnesium' \n",
      "Errors: 11/48\n",
      "11.0\n",
      "Test error using features(s):\n",
      "'Malic acid' \n",
      "'Total phenols' \n",
      "Errors: 12/48\n",
      "12.0\n",
      "Test error using features(s):\n",
      "'Malic acid' \n",
      "'Flavanoids' \n",
      "Errors: 9/48\n",
      "9.0\n",
      "Test error using features(s):\n",
      "'Malic acid' \n",
      "'Nonflavanoid phenols' \n",
      "Errors: 21/48\n",
      "21.0\n",
      "Test error using features(s):\n",
      "'Malic acid' \n",
      "'Proanthocyanins' \n",
      "Errors: 14/48\n",
      "14.0\n",
      "Test error using features(s):\n",
      "'Malic acid' \n",
      "'Color intensity' \n",
      "Errors: 11/48\n",
      "11.0\n",
      "Test error using features(s):\n",
      "'Malic acid' \n",
      "'Hue' \n",
      "Errors: 16/48\n",
      "16.0\n",
      "Test error using features(s):\n",
      "'Malic acid' \n",
      "'OD280/OD315 of diluted wines' \n",
      "Errors: 15/48\n",
      "15.0\n",
      "Test error using features(s):\n",
      "'Malic acid' \n",
      "'Proline' \n",
      "Errors: 9/48\n",
      "9.0\n",
      "Test error using features(s):\n",
      "'Ash' \n",
      "'Alcalinity of ash' \n",
      "Errors: 18/48\n",
      "18.0\n",
      "Test error using features(s):\n",
      "'Ash' \n",
      "'Magnesium' \n",
      "Errors: 23/48\n",
      "23.0\n",
      "Test error using features(s):\n",
      "'Ash' \n",
      "'Total phenols' \n",
      "Errors: 16/48\n",
      "16.0\n",
      "Test error using features(s):\n",
      "'Ash' \n",
      "'Flavanoids' \n",
      "Errors: 10/48\n",
      "10.0\n",
      "Test error using features(s):\n",
      "'Ash' \n",
      "'Nonflavanoid phenols' \n",
      "Errors: 22/48\n",
      "22.0\n",
      "Test error using features(s):\n",
      "'Ash' \n",
      "'Proanthocyanins' \n",
      "Errors: 21/48\n",
      "21.0\n",
      "Test error using features(s):\n",
      "'Ash' \n",
      "'Color intensity' \n",
      "Errors: 13/48\n",
      "13.0\n",
      "Test error using features(s):\n",
      "'Ash' \n",
      "'Hue' \n",
      "Errors: 13/48\n",
      "13.0\n",
      "Test error using features(s):\n",
      "'Ash' \n",
      "'OD280/OD315 of diluted wines' \n",
      "Errors: 13/48\n",
      "13.0\n",
      "Test error using features(s):\n",
      "'Ash' \n",
      "'Proline' \n",
      "Errors: 15/48\n",
      "15.0\n",
      "Test error using features(s):\n",
      "'Alcalinity of ash' \n",
      "'Magnesium' \n",
      "Errors: 11/48\n",
      "11.0\n",
      "Test error using features(s):\n",
      "'Alcalinity of ash' \n",
      "'Total phenols' \n",
      "Errors: 12/48\n",
      "12.0\n",
      "Test error using features(s):\n",
      "'Alcalinity of ash' \n",
      "'Flavanoids' \n",
      "Errors: 8/48\n",
      "8.0\n",
      "Test error using features(s):\n",
      "'Alcalinity of ash' \n",
      "'Nonflavanoid phenols' \n",
      "Errors: 19/48\n",
      "19.0\n",
      "Test error using features(s):\n",
      "'Alcalinity of ash' \n",
      "'Proanthocyanins' \n",
      "Errors: 20/48\n",
      "20.0\n",
      "Test error using features(s):\n",
      "'Alcalinity of ash' \n",
      "'Color intensity' \n",
      "Errors: 11/48\n",
      "11.0\n",
      "Test error using features(s):\n",
      "'Alcalinity of ash' \n",
      "'Hue' \n",
      "Errors: 7/48\n",
      "7.0\n",
      "Test error using features(s):\n",
      "'Alcalinity of ash' \n",
      "'OD280/OD315 of diluted wines' \n",
      "Errors: 9/48\n",
      "9.0\n",
      "Test error using features(s):\n",
      "'Alcalinity of ash' \n",
      "'Proline' \n",
      "Errors: 13/48\n",
      "13.0\n",
      "Test error using features(s):\n",
      "'Magnesium' \n",
      "'Total phenols' \n",
      "Errors: 11/48\n",
      "11.0\n",
      "Test error using features(s):\n",
      "'Magnesium' \n",
      "'Flavanoids' \n",
      "Errors: 7/48\n",
      "7.0\n",
      "Test error using features(s):\n",
      "'Magnesium' \n",
      "'Nonflavanoid phenols' \n",
      "Errors: 18/48\n",
      "18.0\n",
      "Test error using features(s):\n",
      "'Magnesium' \n",
      "'Proanthocyanins' \n",
      "Errors: 9/48\n",
      "9.0\n",
      "Test error using features(s):\n",
      "'Magnesium' \n",
      "'Color intensity' \n",
      "Errors: 10/48\n",
      "10.0\n",
      "Test error using features(s):\n",
      "'Magnesium' \n",
      "'Hue' \n",
      "Errors: 7/48\n",
      "7.0\n",
      "Test error using features(s):\n",
      "'Magnesium' \n",
      "'OD280/OD315 of diluted wines' \n",
      "Errors: 7/48\n",
      "7.0\n",
      "Test error using features(s):\n",
      "'Magnesium' \n",
      "'Proline' \n",
      "Errors: 14/48\n",
      "14.0\n",
      "Test error using features(s):\n",
      "'Total phenols' \n",
      "'Flavanoids' \n",
      "Errors: 7/48\n",
      "7.0\n",
      "Test error using features(s):\n",
      "'Total phenols' \n",
      "'Nonflavanoid phenols' \n",
      "Errors: 13/48\n",
      "13.0\n",
      "Test error using features(s):\n",
      "'Total phenols' \n",
      "'Proanthocyanins' \n",
      "Errors: 15/48\n",
      "15.0\n",
      "Test error using features(s):\n",
      "'Total phenols' \n",
      "'Color intensity' \n",
      "Errors: 5/48\n",
      "5.0\n",
      "Test error using features(s):\n",
      "'Total phenols' \n",
      "'Hue' \n",
      "Errors: 8/48\n",
      "8.0\n",
      "Test error using features(s):\n",
      "'Total phenols' \n",
      "'OD280/OD315 of diluted wines' \n",
      "Errors: 10/48\n",
      "10.0\n",
      "Test error using features(s):\n",
      "'Total phenols' \n",
      "'Proline' \n",
      "Errors: 9/48\n",
      "9.0\n",
      "Test error using features(s):\n",
      "'Flavanoids' \n",
      "'Nonflavanoid phenols' \n",
      "Errors: 8/48\n",
      "8.0\n",
      "Test error using features(s):\n",
      "'Flavanoids' \n",
      "'Proanthocyanins' \n",
      "Errors: 8/48\n",
      "8.0\n",
      "Test error using features(s):\n",
      "'Flavanoids' \n",
      "'Color intensity' \n",
      "Errors: 3/48\n",
      "3.0\n",
      "Test error using features(s):\n",
      "'Flavanoids' \n",
      "'Hue' \n",
      "Errors: 4/48\n",
      "4.0\n",
      "Test error using features(s):\n",
      "'Flavanoids' \n",
      "'OD280/OD315 of diluted wines' \n",
      "Errors: 7/48\n",
      "7.0\n",
      "Test error using features(s):\n",
      "'Flavanoids' \n",
      "'Proline' \n",
      "Errors: 4/48\n",
      "4.0\n",
      "Test error using features(s):\n",
      "'Nonflavanoid phenols' \n",
      "'Proanthocyanins' \n",
      "Errors: 18/48\n",
      "18.0\n",
      "Test error using features(s):\n",
      "'Nonflavanoid phenols' \n",
      "'Color intensity' \n",
      "Errors: 12/48\n",
      "12.0\n",
      "Test error using features(s):\n",
      "'Nonflavanoid phenols' \n",
      "'Hue' \n",
      "Errors: 14/48\n",
      "14.0\n",
      "Test error using features(s):\n",
      "'Nonflavanoid phenols' \n",
      "'OD280/OD315 of diluted wines' \n",
      "Errors: 13/48\n",
      "13.0\n",
      "Test error using features(s):\n",
      "'Nonflavanoid phenols' \n",
      "'Proline' \n",
      "Errors: 11/48\n",
      "11.0\n",
      "Test error using features(s):\n",
      "'Proanthocyanins' \n",
      "'Color intensity' \n",
      "Errors: 5/48\n",
      "5.0\n",
      "Test error using features(s):\n",
      "'Proanthocyanins' \n",
      "'Hue' \n",
      "Errors: 11/48\n",
      "11.0\n",
      "Test error using features(s):\n",
      "'Proanthocyanins' \n",
      "'OD280/OD315 of diluted wines' \n",
      "Errors: 16/48\n",
      "16.0\n",
      "Test error using features(s):\n",
      "'Proanthocyanins' \n",
      "'Proline' \n",
      "Errors: 10/48\n",
      "10.0\n",
      "Test error using features(s):\n",
      "'Color intensity' \n",
      "'Hue' \n",
      "Errors: 8/48\n",
      "8.0\n",
      "Test error using features(s):\n",
      "'Color intensity' \n",
      "'OD280/OD315 of diluted wines' \n",
      "Errors: 9/48\n",
      "9.0\n",
      "Test error using features(s):\n",
      "'Color intensity' \n",
      "'Proline' \n",
      "Errors: 5/48\n",
      "5.0\n",
      "Test error using features(s):\n",
      "'Hue' \n",
      "'OD280/OD315 of diluted wines' \n",
      "Errors: 11/48\n",
      "11.0\n",
      "Test error using features(s):\n",
      "'Hue' \n",
      "'Proline' \n",
      "Errors: 7/48\n",
      "7.0\n",
      "Test error using features(s):\n",
      "'OD280/OD315 of diluted wines' \n",
      "'Proline' \n",
      "Errors: 4/48\n",
      "4.0\n"
     ]
    }
   ],
   "source": [
    "### build a table of errors\n",
    "num_features = len(featurenames)\n",
    "error_table = np.zeros((num_features,num_features))\n",
    "error_table.fill(100)\n",
    "for f1 in range(0,num_features):\n",
    "    for f2 in range(f1+1, num_features):\n",
    "        error_table[f1, f2] = test_model(f1, f2)\n",
    "        print(error_table[f1,f2])"
   ]
  },
  {
   "cell_type": "code",
   "execution_count": 50,
   "metadata": {},
   "outputs": [
    {
     "name": "stdout",
     "output_type": "stream",
     "text": [
      "<class 'numpy.ndarray'>\n",
      "[[100.   9.  12.   9.  14.   5.   4.  10.   8.   8.   6.   5.   9.]\n",
      " [100. 100.  22.  16.  11.  12.   9.  21.  14.  11.  16.  15.   9.]\n",
      " [100. 100. 100.  18.  23.  16.  10.  22.  21.  13.  13.  13.  15.]\n",
      " [100. 100. 100. 100.  11.  12.   8.  19.  20.  11.   7.   9.  13.]\n",
      " [100. 100. 100. 100. 100.  11.   7.  18.   9.  10.   7.   7.  14.]\n",
      " [100. 100. 100. 100. 100. 100.   7.  13.  15.   5.   8.  10.   9.]\n",
      " [100. 100. 100. 100. 100. 100. 100.   8.   8.   3.   4.   7.   4.]\n",
      " [100. 100. 100. 100. 100. 100. 100. 100.  18.  12.  14.  13.  11.]\n",
      " [100. 100. 100. 100. 100. 100. 100. 100. 100.   5.  11.  16.  10.]\n",
      " [100. 100. 100. 100. 100. 100. 100. 100. 100. 100.   8.   9.   5.]\n",
      " [100. 100. 100. 100. 100. 100. 100. 100. 100. 100. 100.  11.   7.]\n",
      " [100. 100. 100. 100. 100. 100. 100. 100. 100. 100. 100. 100.   4.]\n",
      " [100. 100. 100. 100. 100. 100. 100. 100. 100. 100. 100. 100. 100.]]\n"
     ]
    }
   ],
   "source": [
    "print(type(error_table))\n",
    "print(error_table)"
   ]
  },
  {
   "cell_type": "code",
   "execution_count": 59,
   "metadata": {},
   "outputs": [
    {
     "name": "stdout",
     "output_type": "stream",
     "text": [
      "minValue =  3.0\n",
      "minIndex =  (array([6]), array([9]))\n",
      "The min error of features are:  Flavanoids  and  Color intensity\n"
     ]
    }
   ],
   "source": [
    "#help(np.argmin)\n",
    "minValue = np.amin(error_table)\n",
    "minIndex = np.where(error_table==np.amin(error_table))\n",
    "print('minValue = ', minValue)\n",
    "print('minIndex = ', minIndex)\n",
    "f1 = minIndex[0][0]\n",
    "f2 = minIndex[1][0]\n",
    "print('The min error of features are: ', featurenames[f1], ' and ', featurenames[f2])"
   ]
  },
  {
   "cell_type": "markdown",
   "metadata": {},
   "source": [
    "## The smallest achievable test error = 3\n",
    "## the feature pairs is: Flavanoids and Color intensity (feature 6 and feature 9)"
   ]
  },
  {
   "cell_type": "markdown",
   "metadata": {},
   "source": [
    "## The decision boundary"
   ]
  },
  {
   "cell_type": "code",
   "execution_count": 63,
   "metadata": {
    "collapsed": true
   },
   "outputs": [],
   "source": [
    "def show_decision_boundary(f1, f2):\n",
    "    mu, covar, pi = fit_generative_model(trainx, trainy, [f1,f2])\n",
    "    x1_lower, x1_upper = find_range(trainx[:, f1])\n",
    "    x2_lower, x2_upper = find_range(trainx[:, f2])\n",
    "    plt.xlim([x1_lower, x1_upper])\n",
    "    plt.ylim([x2_lower, x2_upper])\n",
    "    \n",
    "    colors = ['r','k','g']\n",
    "    for label in range(1,4):\n",
    "        plt.plot(trainx[trainy==label,f1], trainx[trainy==label,f2], marker='p',ls='None', \n",
    "                c=colors[label-1])\n",
    "        \n",
    "    res = 200\n",
    "    x1g = np.linspace(x1_lower, x1_upper, res)\n",
    "    x2g = np.linspace(x2_lower, x2_upper, res)\n",
    "    \n",
    "    random_vars = {}\n",
    "    for label in range(1,4):\n",
    "        random_vars[label] = multivariate_normal(mean=mu[label,:],cov=covar[label,:,:])\n",
    "        \n",
    "        \n",
    "    Z = np.zeros((len(x1g), len(x2g)))\n",
    "    for i in range(0, len(x1g)):\n",
    "        for j in range(0, len(x2g)):\n",
    "            scores = []\n",
    "            for label in range(1,4):\n",
    "                scores.append(np.log(pi[label]) + random_vars[label].logpdf([x1g[i],x2g[j]]))\n",
    "            Z[i,j] = np.argmax(scores) + 1\n",
    "            \n",
    "    plt.contour(x1g, x2g,Z.T, 3, cmap='seismic')\n",
    "    \n",
    "    plt.xlabel(featurenames[f1], fontsize=14, color='red')\n",
    "    plt.ylabel(featurenames[f2], fontsize=14, color='red')\n",
    "    plt.show()"
   ]
  },
  {
   "cell_type": "code",
   "execution_count": 64,
   "metadata": {},
   "outputs": [
    {
     "data": {
      "image/png": "[encoded data removed]",
      "text/plain": [
       "<Figure size 432x288 with 1 Axes>"
      ]
     },
     "metadata": {
      "needs_background": "light"
     },
     "output_type": "display_data"
    }
   ],
   "source": [
    "show_decision_boundary(0,6)"
   ]
  },
  {
   "cell_type": "code",
   "execution_count": 67,
   "metadata": {},
   "outputs": [
    {
     "data": {
      "application/vnd.jupyter.widget-view+json": {
       "model_id": "a3203361c8ac424fa0394f097e70e5e9",
       "version_major": 2,
       "version_minor": 0
      },
      "text/html": [
       "<p>Failed to display Jupyter Widget of type <code>interactive</code>.</p>\n",
       "<p>\n",
       "  If you're reading this message in the Jupyter Notebook or JupyterLab Notebook, it may mean\n",
       "  that the widgets JavaScript is still loading. If this message persists, it\n",
       "  likely means that the widgets JavaScript library is either not installed or\n",
       "  not enabled. See the <a href=\"https://ipywidgets.readthedocs.io/en/stable/user_install.html\">Jupyter\n",
       "  Widgets Documentation</a> for setup instructions.\n",
       "</p>\n",
       "<p>\n",
       "  If you're reading this message in another frontend (for example, a static\n",
       "  rendering on GitHub or <a href=\"https://nbviewer.jupyter.org/\">NBViewer</a>),\n",
       "  it may mean that your frontend doesn't currently support widgets.\n",
       "</p>\n"
      ],
      "text/plain": [
       "interactive(children=(IntSlider(value=0, description='f1', max=12), IntSlider(value=6, description='f2', max=12), Output()), _dom_classes=('widget-interact',))"
      ]
     },
     "metadata": {},
     "output_type": "display_data"
    }
   ],
   "source": [
    "datax = testx\n",
    "datay = testy\n",
    "@interact(f1 = IntSlider(0,0,12,1), f2 = IntSlider(6,0,12,1))\n",
    "def show_decision_boundary_interact(f1, f2):\n",
    "    if f1==f2:\n",
    "        print(\"Choose other f1 and f2 values.\")\n",
    "        return\n",
    "    \n",
    "    mu, covar, pi = fit_generative_model(datax, datay, [f1,f2])\n",
    "    x1_lower, x1_upper = find_range(datax[:, f1])\n",
    "    x2_lower, x2_upper = find_range(datax[:, f2])\n",
    "    plt.xlim([x1_lower, x1_upper])\n",
    "    plt.ylim([x2_lower, x2_upper])\n",
    "    \n",
    "    colors = ['r','k','g']\n",
    "    for label in range(1,4):\n",
    "        plt.plot(datax[datay==label,f1], datax[datay==label,f2], marker='p',ls='None', \n",
    "                c=colors[label-1])\n",
    "        \n",
    "    res = 200\n",
    "    x1g = np.linspace(x1_lower, x1_upper, res)\n",
    "    x2g = np.linspace(x2_lower, x2_upper, res)\n",
    "    \n",
    "    random_vars = {}\n",
    "    for label in range(1,4):\n",
    "        random_vars[label] = multivariate_normal(mean=mu[label,:],cov=covar[label,:,:])\n",
    "        \n",
    "        \n",
    "    Z = np.zeros((len(x1g), len(x2g)))\n",
    "    for i in range(0, len(x1g)):\n",
    "        for j in range(0, len(x2g)):\n",
    "            scores = []\n",
    "            for label in range(1,4):\n",
    "                scores.append(np.log(pi[label]) + random_vars[label].logpdf([x1g[i],x2g[j]]))\n",
    "            Z[i,j] = np.argmax(scores) + 1\n",
    "            \n",
    "    plt.contour(x1g, x2g,Z.T, 3, cmap='seismic')\n",
    "    \n",
    "    plt.xlabel(featurenames[f1], fontsize=14, color='red')\n",
    "    plt.ylabel(featurenames[f2], fontsize=14, color='red')\n",
    "    plt.show()"
   ]
  },
  {
   "cell_type": "code",
   "execution_count": null,
   "metadata": {
    "collapsed": true
   },
   "outputs": [],
   "source": []
  }
 ],
 "metadata": {
  "kernelspec": {
   "display_name": "Python 3",
   "language": "python",
   "name": "python3"
  },
  "language_info": {
   "codemirror_mode": {
    "name": "ipython",
    "version": 3
   },
   "file_extension": ".py",
   "mimetype": "text/x-python",
   "name": "python",
   "nbconvert_exporter": "python",
   "pygments_lexer": "ipython3",
   "version": "3.5.4"
  }
 },
 "nbformat": 4,
 "nbformat_minor": 2
}
