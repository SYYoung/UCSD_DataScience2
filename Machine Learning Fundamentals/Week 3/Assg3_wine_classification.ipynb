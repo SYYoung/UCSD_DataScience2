{
 "cells": [
  {
   "cell_type": "code",
   "execution_count": 1,
   "metadata": {
    "collapsed": true
   },
   "outputs": [],
   "source": [
    "%matplotlib inline\n",
    "import numpy as np\n",
    "import matplotlib.pyplot as plt\n",
    "from scipy.stats import norm, multivariate_normal"
   ]
  },
  {
   "cell_type": "code",
   "execution_count": 2,
   "metadata": {
    "collapsed": true
   },
   "outputs": [],
   "source": [
    "data = np.loadtxt('./winery-multivariate/wine.data.txt', delimiter=',')\n",
    "featurenames = ['Alcohol', 'Malic acid', 'Ash', 'Alcalinity of ash','Magnesium', 'Total phenols', \n",
    "                'Flavanoids', 'Nonflavanoid phenols', 'Proanthocyanins', 'Color intensity', 'Hue', \n",
    "                'OD280/OD315 of diluted wines', 'Proline']\n",
    "\n",
    "np.random.seed(0)\n",
    "perm = np.random.permutation(178)\n",
    "train_size = 130\n",
    "feature_size = 14\n",
    "trainx = data[perm[0:train_size],1:feature_size]\n",
    "trainy = data[perm[0:train_size],0]\n",
    "testx = data[perm[train_size:], 1:feature_size]\n",
    "testy = data[perm[train_size:],0]"
   ]
  },
  {
   "cell_type": "code",
   "execution_count": 3,
   "metadata": {},
   "outputs": [
    {
     "name": "stdout",
     "output_type": "stream",
     "text": [
      "(130, 13) (130,) (48, 13) (48,)\n"
     ]
    }
   ],
   "source": [
    "print(trainx.shape, trainy.shape, testx.shape, testy.shape)"
   ]
  },
  {
   "cell_type": "code",
   "execution_count": 4,
   "metadata": {
    "collapsed": true
   },
   "outputs": [],
   "source": [
    "def fit_generative_model(x, y):\n",
    "    num_class = 3\n",
    "    k = num_class\n",
    "    d = (x.shape)[1]\n",
    "    mu = np.zeros((k+1, d))\n",
    "    sigma = np.zeros((k+1, d, d))\n",
    "    pi = np.zeros(k+1)\n",
    "    for label in range(1, k+1):\n",
    "        indices = (y==label)\n",
    "        mu[label] = np.mean(x[indices,:], axis=0)\n",
    "        sigma[label] = np.cov(x[indices,:], rowvar=0, bias=1)\n",
    "        pi[label] = float(sum(indices))/float(len(y))\n",
    "    return mu, sigma, pi"
   ]
  },
  {
   "cell_type": "code",
   "execution_count": 5,
   "metadata": {
    "collapsed": true
   },
   "outputs": [],
   "source": [
    "mu, sigma, pi = fit_generative_model(trainx, trainy)"
   ]
  },
  {
   "cell_type": "code",
   "execution_count": 16,
   "metadata": {},
   "outputs": [
    {
     "name": "stdout",
     "output_type": "stream",
     "text": [
      "(4, 13) (4, 13, 13) (4,)\n",
      "[[1.37853488e+01 2.02232558e+00 2.42790698e+00 1.68813953e+01\n",
      "  1.05837209e+02 2.85162791e+00 2.99627907e+00 2.89069767e-01\n",
      "  1.93069767e+00 5.63023256e+00 1.06232558e+00 3.16674419e+00\n",
      "  1.14190698e+03]\n",
      " [1.23109259e+01 1.91925926e+00 2.22703704e+00 1.96759259e+01\n",
      "  9.58333333e+01 2.30129630e+00 2.10907407e+00 3.47407407e-01\n",
      "  1.65722222e+00 3.18370370e+00 1.04129630e+00 2.76666667e+00\n",
      "  5.25981481e+02]\n",
      " [1.31596970e+01 3.37727273e+00 2.40090909e+00 2.08939394e+01\n",
      "  9.90303030e+01 1.67606061e+00 7.57272727e-01 4.59696970e-01\n",
      "  1.20848485e+00 7.38242421e+00 6.86666667e-01 1.67484848e+00\n",
      "  6.35909091e+02]]\n",
      "mu subset = \n",
      " [[  2.42790698 105.8372093    2.99627907]\n",
      " [  2.22703704  95.83333333   2.10907407]\n",
      " [  2.40090909  99.03030303   0.75727273]]\n",
      "cov subset = \n",
      " [[3.67746890e-02 1.18461871e+02 1.52409410e-01]\n",
      " [1.12302332e-01 3.28509259e+02 5.68697291e-01]\n",
      " [2.67597796e-02 1.25423324e+02 7.37531680e-02]]\n"
     ]
    }
   ],
   "source": [
    "print(mu.shape, sigma.shape, pi.shape)\n",
    "print(mu[1:4,:])\n",
    "sub_feature = [2,4,6]\n",
    "sub_mu = mu[1:4, sub_feature]\n",
    "sub_sigma = sigma[1:4, sub_feature, sub_feature]\n",
    "print('mu subset = \\n', sub_mu)\n",
    "print('cov subset = \\n', sub_sigma)"
   ]
  },
  {
   "cell_type": "code",
   "execution_count": 21,
   "metadata": {},
   "outputs": [],
   "source": [
    "def test_model(mu, sigma, pi, features, tx, ty):\n",
    "    num_class = 3\n",
    "    sub_mu = mu[1:num_class+1, features]\n",
    "    sub_sigma = sigma[1:num_class+1, features, features]\n",
    "    for label in range(1, num_class+1):\n",
    "        p1 = ((tx - sub_mu).T * (np.linalg.inv(sub_sigma)) * (tx - sub_mu)) * (-0.5)"
   ]
  },
  {
   "cell_type": "code",
   "execution_count": null,
   "metadata": {
    "collapsed": true
   },
   "outputs": [],
   "source": []
  }
 ],
 "metadata": {
  "kernelspec": {
   "display_name": "Python 3",
   "language": "python",
   "name": "python3"
  },
  "language_info": {
   "codemirror_mode": {
    "name": "ipython",
    "version": 3
   },
   "file_extension": ".py",
   "mimetype": "text/x-python",
   "name": "python",
   "nbconvert_exporter": "python",
   "pygments_lexer": "ipython3",
   "version": "3.5.4"
  }
 },
 "nbformat": 4,
 "nbformat_minor": 2
}
