{
 "cells": [
  {
   "cell_type": "code",
   "execution_count": 1,
   "metadata": {
    "collapsed": true
   },
   "outputs": [],
   "source": [
    "%matplotlib inline\n",
    "import numpy as np\n",
    "import matplotlib.pyplot as plt\n",
    "from scipy.stats import norm, multivariate_normal"
   ]
  },
  {
   "cell_type": "code",
   "execution_count": 2,
   "metadata": {
    "collapsed": true
   },
   "outputs": [],
   "source": [
    "data = np.loadtxt('./winery-multivariate/wine.data.txt', delimiter=',')\n",
    "featurenames = ['Alcohol', 'Malic acid', 'Ash', 'Alcalinity of ash','Magnesium', 'Total phenols', \n",
    "                'Flavanoids', 'Nonflavanoid phenols', 'Proanthocyanins', 'Color intensity', 'Hue', \n",
    "                'OD280/OD315 of diluted wines', 'Proline']\n",
    "\n",
    "np.random.seed(0)\n",
    "perm = np.random.permutation(178)\n",
    "train_size = 130\n",
    "feature_size = 14\n",
    "trainx = data[perm[0:train_size],1:feature_size]\n",
    "trainy = data[perm[0:train_size],0]\n",
    "testx = data[perm[train_size:], 1:feature_size]\n",
    "testy = data[perm[train_size:],0]"
   ]
  },
  {
   "cell_type": "code",
   "execution_count": 3,
   "metadata": {},
   "outputs": [
    {
     "name": "stdout",
     "output_type": "stream",
     "text": [
      "(130, 13) (130,) (48, 13) (48,)\n"
     ]
    }
   ],
   "source": [
    "print(trainx.shape, trainy.shape, testx.shape, testy.shape)"
   ]
  },
  {
   "cell_type": "code",
   "execution_count": 4,
   "metadata": {
    "collapsed": true
   },
   "outputs": [],
   "source": [
    "def fit_generative_model(x, y):\n",
    "    num_class = 3\n",
    "    k = num_class\n",
    "    d = (x.shape)[1]\n",
    "    mu = np.zeros((k+1, d))\n",
    "    sigma = np.zeros((k+1, d, d))\n",
    "    pi = np.zeros(k+1)\n",
    "    for label in range(1, k+1):\n",
    "        indices = (y==label)\n",
    "        mu[label] = np.mean(x[indices,:], axis=0)\n",
    "        sigma[label] = np.cov(x[indices,:], rowvar=0, bias=1)\n",
    "        pi[label] = float(sum(indices))/float(len(y))\n",
    "    return mu, sigma, pi"
   ]
  },
  {
   "cell_type": "code",
   "execution_count": 5,
   "metadata": {
    "collapsed": true
   },
   "outputs": [],
   "source": [
    "mu, sigma, pi = fit_generative_model(trainx, trainy)"
   ]
  },
  {
   "cell_type": "code",
   "execution_count": 9,
   "metadata": {},
   "outputs": [
    {
     "name": "stdout",
     "output_type": "stream",
     "text": [
      "(3, 3, 3)\n",
      "(3, 1, 1)\n",
      "(3, 1, 1)\n",
      "[[[14]]\n",
      "\n",
      " [[24]]\n",
      "\n",
      " [[34]]]\n",
      "(3, 2, 3)\n",
      "(3, 2, 2)\n"
     ]
    }
   ],
   "source": [
    "a3 = np.array([[[10, 11, 12], [13, 14, 15], [16, 17, 18]],\n",
    "               [[20, 21, 22], [23, 24, 25], [26, 27, 28]],\n",
    "               [[30, 31, 32], [33, 34, 35], [36, 37, 38]]])\n",
    "print(a3.shape)\n",
    "m1 = a3[:, 1:2, 1:2]\n",
    "print(m1.shape)\n",
    "f1 = [1,2]\n",
    "m2 = a3[:,1:2,1:2]\n",
    "print(m2.shape)\n",
    "print(m2)\n",
    "m3 = a3[:,[1,2],:]\n",
    "print(m3.shape)\n",
    "m4 = m3[:,:,[1,2]]\n",
    "print(m4.shape)"
   ]
  },
  {
   "cell_type": "code",
   "execution_count": 12,
   "metadata": {},
   "outputs": [
    {
     "name": "stdout",
     "output_type": "stream",
     "text": [
      "(4, 13) (4, 13, 13) (4,)\n",
      "mu subset = \n",
      " [[  0.           0.           0.        ]\n",
      " [  2.42790698 105.8372093    2.99627907]\n",
      " [  2.22703704  95.83333333   2.10907407]\n",
      " [  2.40090909  99.03030303   0.75727273]]\n",
      "s1 = \n",
      " (4, 3, 13)\n",
      "s2 shape:  (4, 3, 3)\n",
      "cov\n",
      "<class 'numpy.ndarray'>\n"
     ]
    }
   ],
   "source": [
    "print(mu.shape, sigma.shape, pi.shape)\n",
    "\n",
    "f1 = [2,4,6]\n",
    "print('mu subset = \\n', mu[:,f1])\n",
    "s1 = sigma[:,f1,:]\n",
    "print('s1 = \\n', s1.shape)\n",
    "s1 = s1[:,:,f1]\n",
    "print('s2 shape: ', s1.shape)\n",
    "print('cov')\n",
    "print(type(sigma))"
   ]
  },
  {
   "cell_type": "code",
   "execution_count": 16,
   "metadata": {
    "collapsed": true
   },
   "outputs": [],
   "source": [
    "def test_model(mu, sigma, pi, features, tx, ty):\n",
    "    num_class = 3\n",
    "    sub_mu = mu[:, features]\n",
    "    sub_sigma = sigma[:, features, :]\n",
    "    sub_sigma = sub_sigma[:,:,features]\n",
    "    score = np.zeros((len(ty), num_class+1))\n",
    "    for i in range(len(ty)):\n",
    "        for label in range(1, num_class+1):\n",
    "            score[i,label] = np.log(pi[label]) + \\\n",
    "                multivariate_normal.logpdf(tx[i, features], mean=sub_mu[label,:],\n",
    "                                          cov=sub_sigma[label,:,:])\n",
    "    predictions = np.argmax(score[:, 1:num_class+1], axis=1) + 1\n",
    "    errors = np.sum(predictions != ty)\n",
    "    print(\"Test error using features: \")\n",
    "    for f in features:\n",
    "        print(\"'\" + featurenames[f] + \"'\" + \" \")\n",
    "    print(\"Errors: \" + str(errors) + \"/\" + str(len(ty)))"
   ]
  },
  {
   "cell_type": "code",
   "execution_count": 17,
   "metadata": {},
   "outputs": [
    {
     "name": "stdout",
     "output_type": "stream",
     "text": [
      "Test error using features: \n",
      "'Ash' \n",
      "'Magnesium' \n",
      "'Flavanoids' \n",
      "Errors: 7/48\n"
     ]
    }
   ],
   "source": [
    "test_model(mu, sigma, pi, [2,4,6], testx, testy)"
   ]
  },
  {
   "cell_type": "code",
   "execution_count": 18,
   "metadata": {
    "collapsed": true
   },
   "outputs": [],
   "source": [
    "# Use single feature 'Ash'"
   ]
  },
  {
   "cell_type": "code",
   "execution_count": null,
   "metadata": {
    "collapsed": true
   },
   "outputs": [],
   "source": []
  }
 ],
 "metadata": {
  "kernelspec": {
   "display_name": "Python 3",
   "language": "python",
   "name": "python3"
  },
  "language_info": {
   "codemirror_mode": {
    "name": "ipython",
    "version": 3
   },
   "file_extension": ".py",
   "mimetype": "text/x-python",
   "name": "python",
   "nbconvert_exporter": "python",
   "pygments_lexer": "ipython3",
   "version": "3.5.4"
  }
 },
 "nbformat": 4,
 "nbformat_minor": 2
}
