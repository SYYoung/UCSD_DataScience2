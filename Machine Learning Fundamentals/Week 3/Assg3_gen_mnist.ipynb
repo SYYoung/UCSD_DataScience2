{
 "cells": [
  {
   "cell_type": "code",
   "execution_count": 1,
   "metadata": {
    "collapsed": true
   },
   "outputs": [],
   "source": [
    "%matplotlib inline\n",
    "import matplotlib.pyplot as plt\n",
    "import gzip, os\n",
    "import numpy as np\n",
    "from scipy.stats import multivariate_normal\n",
    "\n",
    "from urllib.request import urlretrieve"
   ]
  },
  {
   "cell_type": "code",
   "execution_count": 2,
   "metadata": {
    "collapsed": true
   },
   "outputs": [],
   "source": [
    "def download(filename, source='http://yann.lecun.com/exdb/mnist/'):\n",
    "    print(\"Downloading %s\" % filename)\n",
    "    urlretrieve(source + filename, filename)\n",
    "    \n",
    "def load_mnist_images(filename):\n",
    "    if not os.path.exists(filename):\n",
    "        download(filename)\n",
    "    with gzip.open(filename, 'rb') as f:\n",
    "        data = np.frombuffer(f.read(), np.uint8, offset=16)\n",
    "    data = data.reshape(-1,784)\n",
    "    return data\n",
    "\n",
    "def load_mnist_labels(filename):\n",
    "    if not os.path.exists(filename):\n",
    "        download(filename)\n",
    "    with gzip.open(filename, 'rb') as f:\n",
    "        data = np.frombuffer(f.read(), np.uint8, offset=8)\n",
    "    return data"
   ]
  },
  {
   "cell_type": "code",
   "execution_count": 3,
   "metadata": {
    "collapsed": true
   },
   "outputs": [],
   "source": [
    "# load the training set\n",
    "train_data = load_mnist_images('train-images-idx3-ubyte.gz')\n",
    "train_labels = load_mnist_labels('train-labels-idx1-ubyte.gz')\n",
    "\n",
    "test_data = load_mnist_images('t10k-images-idx3-ubyte.gz')\n",
    "test_labels = load_mnist_labels('t10k-labels-idx1-ubyte.gz')"
   ]
  },
  {
   "cell_type": "code",
   "execution_count": 4,
   "metadata": {},
   "outputs": [
    {
     "name": "stdout",
     "output_type": "stream",
     "text": [
      "(60000, 784) (60000,) (10000, 784) (10000,)\n"
     ]
    }
   ],
   "source": [
    "print(train_data.shape, train_labels.shape, test_data.shape, test_labels.shape)"
   ]
  },
  {
   "cell_type": "code",
   "execution_count": 5,
   "metadata": {
    "collapsed": true
   },
   "outputs": [],
   "source": [
    "def displaychar(image):\n",
    "    plt.imshow(np.reshape(image, (28,28)), cmap=plt.cm.gray)\n",
    "    plt.axis('off')\n",
    "    plt.show()"
   ]
  },
  {
   "cell_type": "code",
   "execution_count": 6,
   "metadata": {},
   "outputs": [
    {
     "data": {
      "image/png": "[encoded data removed]",
      "text/plain": [
       "<Figure size 432x288 with 1 Axes>"
      ]
     },
     "metadata": {
      "needs_background": "light"
     },
     "output_type": "display_data"
    }
   ],
   "source": [
    "displaychar(train_data[58])"
   ]
  },
  {
   "cell_type": "code",
   "execution_count": 7,
   "metadata": {
    "collapsed": true
   },
   "outputs": [],
   "source": [
    "# split the training set into 2 sets: train_1 and valid sets\n",
    "train_sub_size = int(0.8 * len(train_labels))\n",
    "np.random.seed(0)\n",
    "perm = np.random.permutation(len(train_labels))\n",
    "sub_train_data = train_data[perm[0:train_sub_size],:]\n",
    "sub_train_label = train_labels[perm[0:train_sub_size]]\n",
    "valid_data = train_data[perm[train_sub_size:],:]\n",
    "valid_label = train_data[perm[train_sub_size:]]"
   ]
  },
  {
   "cell_type": "code",
   "execution_count": 23,
   "metadata": {
    "collapsed": true
   },
   "outputs": [],
   "source": [
    "def test_model(my_mu, my_sigma, my_pi, x, y):\n",
    "    num_class = 10\n",
    "    score = np.zeros((len(y), num_class))\n",
    "    for label in range(0, num_class):\n",
    "        rv = multivariate_normal(mean=my_mu[label], cov=my_sigma[label], allow_singular=True)\n",
    "        for i in range(0, len(y)):\n",
    "            score[i,label] =  np.log(my_pi[label]) + rv.logpdf(x[i,:])\n",
    "    predictions = np.argmax(score, axis=1)\n",
    "    errors = np.sum(predictions != y)\n",
    "    print(\"Your model makes \" + str(errors) + \"errors out of 10000\")\n",
    "    return errors"
   ]
  },
  {
   "cell_type": "code",
   "execution_count": 24,
   "metadata": {
    "collapsed": true
   },
   "outputs": [],
   "source": [
    "def choose_c(mu1, sigma1, pi1):\n",
    "    num_class = mu1.shape[0]\n",
    "    num_feature = mu1.shape[1]\n",
    "    c_list = np.logspace(-1,2,num=20)\n",
    "    det_list = np.zeros((20))\n",
    "    new_sigma = np.array(sigma1)\n",
    "    for i in range(len(c_list)):\n",
    "        for label in range(num_class):\n",
    "            new_sigma[label,:,:] = new_sigma[label,:,:] + c_list[i] * np.eye((num_feature))\n",
    "            new_det = np.linalg.det(new_sigma[label,:,:])\n",
    "            if (new_det == 0.0):\n",
    "                break\n",
    "        if (new_det != 0.0):\n",
    "            choice = c_list[i]\n",
    "            break\n",
    "    \n",
    "    print(c_list)\n",
    "    print(choice)\n",
    "    return (choice)\n",
    "\n",
    "#mu_1, sigma_1, pi_1 = fit_generative_model(train_data, train_labels)\n",
    "#choose_c(mu_1, sigma_1, pi_1)"
   ]
  },
  {
   "cell_type": "code",
   "execution_count": 25,
   "metadata": {
    "collapsed": true
   },
   "outputs": [],
   "source": [
    "def fit_2(x, y):\n",
    "    k = 10\n",
    "    d = (x.shape)[1]\n",
    "    mu = np.zeros((k, d))\n",
    "    sigma = np.zeros((k, d,d ))\n",
    "    pi = np.zeros(k)\n",
    "    \n",
    "    # calculate mu, sigma, pi\n",
    "    for label in range(k):\n",
    "        indices = (y==label)\n",
    "        mu[label] = np.mean(x[indices,:], axis=0)\n",
    "        sigma[label] = np.cov(x[indices,:], rowvar=0, bias=1)\n",
    "        pi[label] = float(sum(y==label))/float(len(y))\n",
    "    return mu, sigma, pi\n",
    "\n",
    "mu2, sigma2, pi2 = fit_2(train_data, train_labels)"
   ]
  },
  {
   "cell_type": "code",
   "execution_count": 32,
   "metadata": {},
   "outputs": [
    {
     "name": "stdout",
     "output_type": "stream",
     "text": [
      "Your model makes 1862errors out of 10000\n",
      "err =  1862\n"
     ]
    }
   ],
   "source": [
    "mu2, sigma2, pi2 = fit_2(train_data, train_labels)\n",
    "err = test_model(mu2, sigma2, pi2, test_data, test_labels)\n",
    "print('err = ', err)"
   ]
  },
  {
   "cell_type": "code",
   "execution_count": 34,
   "metadata": {},
   "outputs": [
    {
     "name": "stdout",
     "output_type": "stream",
     "text": [
      "(784, 784)\n",
      "319225\n",
      "0.0\n",
      "0.0\n",
      "(10, 784)\n",
      "908.5613675348352\n",
      "[[1. 0. 0. ... 0. 0. 0.]\n",
      " [0. 1. 0. ... 0. 0. 0.]\n",
      " [0. 0. 1. ... 0. 0. 0.]\n",
      " ...\n",
      " [0. 0. 0. ... 1. 0. 0.]\n",
      " [0. 0. 0. ... 0. 1. 0.]\n",
      " [0. 0. 0. ... 0. 0. 1.]]\n",
      "(784, 784)\n",
      "after adding extra c, det =  5.731243891885756e-122\n",
      "after adding extra c, det =  0.0\n",
      "after adding extra c, det =  inf\n",
      "after adding extra c, det =  9.19681193290023e+102\n",
      "after adding extra c, det =  1.643016603219038e+133\n",
      "after adding extra c, det =  1.3417036200160414e+156\n",
      "after adding extra c, det =  3.775333484067297e-158\n",
      "after adding extra c, det =  50739628211191.91\n",
      "after adding extra c, det =  2.418273731582193e-27\n",
      "after adding extra c, det =  2.7749159729181547e-244\n",
      "Your model makes 1862errors out of 10000\n",
      "The err is:  1862\n"
     ]
    }
   ],
   "source": [
    "def regular_cov(extr_c, x, y):\n",
    "    my_mu, my_sigma, my_pi = fit_2(train_data, train_labels)\n",
    "\n",
    "    for j in range(10):\n",
    "        for i in range(sigma3.shape[1]):\n",
    "            my_sigma[j,i,i] = my_sigma[j,i,i] + extra_c\n",
    "    \n",
    "err = test_model(mu2, sigma3, pi2, test_data, test_labels)\n",
    "print('The err is: ', err)"
   ]
  },
  {
   "cell_type": "code",
   "execution_count": 80,
   "metadata": {
    "collapsed": true
   },
   "outputs": [],
   "source": [
    "def fit_generative_model(x, y):\n",
    "    k = 10\n",
    "    d = (x.shape)[1]\n",
    "    mu = np.zeros((k, d))\n",
    "    sigma = np.zeros((k, d,d ))\n",
    "    pi = np.zeros(k)\n",
    "    \n",
    "    # calculate mu, sigma, pi\n",
    "    for label in range(k):\n",
    "        indices = (y==label)\n",
    "        mu[label] = np.mean(x[indices,:], axis=0)\n",
    "        sigma[label] = np.cov(x[indices,:], rowvar=0, bias=1)\n",
    "        pi[label] = float(sum(y==label))/float(len(y))\n",
    "        \n",
    "    # with these sets, choose the best c\n",
    "    ## my code to select a good c\n",
    "    # 1. init c, set up a multivariate guassian for the subset, test the validation set,\n",
    "    # 2. choose the c which has the lowest error among the validation set\n",
    "    best_c = choose_c(mu, sigma, pi)\n",
    "    for label in range(k):\n",
    "        sigma[label,:,:] = sigma[label,:,:] + best_c * np.eye((d))\n",
    "    return mu, sigma, pi"
   ]
  },
  {
   "cell_type": "code",
   "execution_count": 37,
   "metadata": {},
   "outputs": [
    {
     "name": "stdout",
     "output_type": "stream",
     "text": [
      "Your model makes 1862errors out of 10000\n",
      "1862\n"
     ]
    },
    {
     "data": {
      "image/png": "[encoded data removed]",
      "text/plain": [
       "<Figure size 432x288 with 1 Axes>"
      ]
     },
     "metadata": {
      "needs_background": "light"
     },
     "output_type": "display_data"
    },
    {
     "data": {
      "image/png": "[encoded data removed]",
      "text/plain": [
       "<Figure size 432x288 with 1 Axes>"
      ]
     },
     "metadata": {
      "needs_background": "light"
     },
     "output_type": "display_data"
    },
    {
     "data": {
      "image/png": "[encoded data removed]",
      "text/plain": [
       "<Figure size 432x288 with 1 Axes>"
      ]
     },
     "metadata": {
      "needs_background": "light"
     },
     "output_type": "display_data"
    }
   ],
   "source": [
    "mu, sigma, pi = fit_2(train_data, train_labels)\n",
    "err = test_model(mu, sigma, pi, test_data, test_labels)\n",
    "print(err)\n",
    "displaychar(mu[0])\n",
    "displaychar(mu[1])\n",
    "displaychar(mu[2])"
   ]
  },
  {
   "cell_type": "code",
   "execution_count": null,
   "metadata": {
    "collapsed": true
   },
   "outputs": [],
   "source": [
    "err = test_model()"
   ]
  }
 ],
 "metadata": {
  "kernelspec": {
   "display_name": "Python 3",
   "language": "python",
   "name": "python3"
  },
  "language_info": {
   "codemirror_mode": {
    "name": "ipython",
    "version": 3
   },
   "file_extension": ".py",
   "mimetype": "text/x-python",
   "name": "python",
   "nbconvert_exporter": "python",
   "pygments_lexer": "ipython3",
   "version": "3.5.4"
  }
 },
 "nbformat": 4,
 "nbformat_minor": 2
}
