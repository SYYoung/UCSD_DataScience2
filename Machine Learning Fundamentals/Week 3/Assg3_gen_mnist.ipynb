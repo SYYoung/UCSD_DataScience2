{
 "cells": [
  {
   "cell_type": "code",
   "execution_count": 1,
   "metadata": {
    "collapsed": true
   },
   "outputs": [],
   "source": [
    "%matplotlib inline\n",
    "import matplotlib.pyplot as plt\n",
    "import gzip, os\n",
    "import numpy as np\n",
    "from scipy.stats import multivariate_normal\n",
    "\n",
    "from urllib.request import urlretrieve"
   ]
  },
  {
   "cell_type": "code",
   "execution_count": 2,
   "metadata": {
    "collapsed": true
   },
   "outputs": [],
   "source": [
    "def download(filename, source='http://yann.lecun.com/exdb/mnist/'):\n",
    "    print(\"Downloading %s\" % filename)\n",
    "    urlretrieve(source + filename, filename)\n",
    "    \n",
    "def load_mnist_images(filename):\n",
    "    if not os.path.exists(filename):\n",
    "        download(filename)\n",
    "    with gzip.open(filename, 'rb') as f:\n",
    "        data = np.frombuffer(f.read(), np.uint8, offset=16)\n",
    "    data = data.reshape(-1,784)\n",
    "    return data\n",
    "\n",
    "def load_mnist_labels(filename):\n",
    "    if not os.path.exists(filename):\n",
    "        download(filename)\n",
    "    with gzip.open(filename, 'rb') as f:\n",
    "        data = np.frombuffer(f.read(), np.uint8, offset=8)\n",
    "    return data"
   ]
  },
  {
   "cell_type": "code",
   "execution_count": 3,
   "metadata": {},
   "outputs": [],
   "source": [
    "# load the training set\n",
    "train_data = load_mnist_images('train-images-idx3-ubyte.gz')\n",
    "train_labels = load_mnist_labels('train-labels-idx1-ubyte.gz')\n",
    "\n",
    "test_data = load_mnist_images('t10k-images-idx3-ubyte.gz')\n",
    "test_labels = load_mnist_labels('t10k-labels-idx1-ubyte.gz')"
   ]
  },
  {
   "cell_type": "code",
   "execution_count": 4,
   "metadata": {},
   "outputs": [
    {
     "name": "stdout",
     "output_type": "stream",
     "text": [
      "(60000, 784) (60000,) (10000, 784) (10000,)\n"
     ]
    }
   ],
   "source": [
    "print(train_data.shape, train_labels.shape, test_data.shape, test_labels.shape)"
   ]
  },
  {
   "cell_type": "code",
   "execution_count": 5,
   "metadata": {
    "collapsed": true
   },
   "outputs": [],
   "source": [
    "def displaychar(image):\n",
    "    plt.imshow(np.reshape(image, (28,28)), cmap=plt.cm.gray)\n",
    "    plt.axis('off')\n",
    "    plt.show()"
   ]
  },
  {
   "cell_type": "code",
   "execution_count": 6,
   "metadata": {},
   "outputs": [
    {
     "data": {
      "image/png": "[encoded data removed]",
      "text/plain": [
       "<Figure size 432x288 with 1 Axes>"
      ]
     },
     "metadata": {
      "needs_background": "light"
     },
     "output_type": "display_data"
    }
   ],
   "source": [
    "displaychar(train_data[58])"
   ]
  },
  {
   "cell_type": "code",
   "execution_count": 7,
   "metadata": {
    "collapsed": true
   },
   "outputs": [],
   "source": [
    "# split the training set into 2 sets: train_1 and valid sets\n",
    "train_sub_size = int(0.8 * len(train_labels))\n",
    "np.random.seed(0)\n",
    "perm = np.random.permutation(len(train_labels))\n",
    "sub_train_data = train_data[perm[0:train_sub_size],:]\n",
    "sub_train_label = train_labels[perm[0:train_sub_size]]\n",
    "valid_data = train_data[perm[train_sub_size:],:]\n",
    "valid_label = train_data[perm[train_sub_size:]]"
   ]
  },
  {
   "cell_type": "code",
   "execution_count": 8,
   "metadata": {},
   "outputs": [
    {
     "ename": "NameError",
     "evalue": "name 'mu' is not defined",
     "output_type": "error",
     "traceback": [
      "\u001b[0;31m---------------------------------------------------------------------------\u001b[0m",
      "\u001b[0;31mNameError\u001b[0m                                 Traceback (most recent call last)",
      "\u001b[0;32m<ipython-input-8-018b0e798c9b>\u001b[0m in \u001b[0;36m<module>\u001b[0;34m()\u001b[0m\n\u001b[0;32m----> 1\u001b[0;31m \u001b[0mmu\u001b[0m\u001b[0;34m.\u001b[0m\u001b[0mshape\u001b[0m\u001b[0;34m[\u001b[0m\u001b[0;36m0\u001b[0m\u001b[0;34m]\u001b[0m\u001b[0;34m,\u001b[0m \u001b[0mmu\u001b[0m\u001b[0;34m.\u001b[0m\u001b[0mshape\u001b[0m\u001b[0;34m[\u001b[0m\u001b[0;36m1\u001b[0m\u001b[0;34m]\u001b[0m\u001b[0;34m\u001b[0m\u001b[0m\n\u001b[0m",
      "\u001b[0;31mNameError\u001b[0m: name 'mu' is not defined"
     ]
    }
   ],
   "source": [
    "mu.shape[0], mu.shape[1]"
   ]
  },
  {
   "cell_type": "code",
   "execution_count": null,
   "metadata": {
    "collapsed": true
   },
   "outputs": [],
   "source": [
    "def test_model(my_mu, my_sigma, my_pi, x, y):\n",
    "    num_class = 10\n",
    "    score = np.zeros((len(y), num_class))\n",
    "    for label in range(0, num_class):\n",
    "        rv = multivariate_normal(mean=my_mu[label], cov=my_sigma[label])\n",
    "        for i in range(0, len(y)):\n",
    "            score[i,label] =  np.log(my_pi[label]) + rv.logpdf(x[i,:])\n",
    "    predictions = np.argmax(score, axis=1)\n",
    "    errors = np.sum(predictions != y)\n",
    "    print(\"Your model makes \" + str(errors) + \"errors out of 10000\")\n",
    "    return errors"
   ]
  },
  {
   "cell_type": "code",
   "execution_count": 9,
   "metadata": {
    "collapsed": true
   },
   "outputs": [],
   "source": [
    "def choose_c(mu1, sigma1, pi1):\n",
    "    num_class = mu1.shape[0]\n",
    "    num_feature = mu1.shape[1]\n",
    "    c_list = np.logspace(-1,2,num=20)\n",
    "    det_list = np.zeros((20))\n",
    "    new_sigma = np.array(sigma1)\n",
    "    for i in range(len(c_list)):\n",
    "        for label in range(num_class):\n",
    "            new_sigma[label,:,:] = new_sigma[label,:,:] + c_list[i] * np.eye((num_feature))\n",
    "            new_det = np.linalg.det(new_sigma[label,:,:])\n",
    "            if (new_det == 0.0):\n",
    "                break\n",
    "        if (new_det != 0.0):\n",
    "            choice = c_list[i]\n",
    "            break\n",
    "    \n",
    "    print(c_list)\n",
    "    print(choice)\n",
    "    return (choice)\n",
    "\n",
    "#mu_1, sigma_1, pi_1 = fit_generative_model(train_data, train_labels)\n",
    "#choose_c(mu_1, sigma_1, pi_1)"
   ]
  },
  {
   "cell_type": "code",
   "execution_count": 39,
   "metadata": {},
   "outputs": [],
   "source": [
    "def fit_2(x, y):\n",
    "    k = 10\n",
    "    d = (x.shape)[1]\n",
    "    mu = np.zeros((k, d))\n",
    "    sigma = np.zeros((k, d,d ))\n",
    "    pi = np.zeros(k)\n",
    "    \n",
    "    # calculate mu, sigma, pi\n",
    "    for label in range(k):\n",
    "        indices = (y==label)\n",
    "        mu[label] = np.mean(x[indices,:], axis=0)\n",
    "        sigma[label] = np.cov(x[indices,:], rowvar=0, bias=1)\n",
    "        pi[label] = float(sum(y==label))/float(len(y))\n",
    "    return mu, sigma, pi\n",
    "\n",
    "mu2, sigma2, pi2 = fit_2(train_data, train_labels)"
   ]
  },
  {
   "cell_type": "code",
   "execution_count": 57,
   "metadata": {},
   "outputs": [
    {
     "name": "stdout",
     "output_type": "stream",
     "text": [
      "(784, 784)\n",
      "319225\n",
      "0.0\n",
      "0.0\n",
      "(10, 784)\n",
      "908.5613675348352\n",
      "[[1. 0. 0. ... 0. 0. 0.]\n",
      " [0. 1. 0. ... 0. 0. 0.]\n",
      " [0. 0. 1. ... 0. 0. 0.]\n",
      " ...\n",
      " [0. 0. 0. ... 1. 0. 0.]\n",
      " [0. 0. 0. ... 0. 1. 0.]\n",
      " [0. 0. 0. ... 0. 0. 1.]]\n",
      "(784, 784)\n",
      "before adding extra c, det =  0.0\n",
      "logdet =  -53.6171816988779\n",
      "after adding extra c, det =  5.1802873773177284e-24\n"
     ]
    }
   ],
   "source": [
    "mu2, sigma2, pi2 = fit_2(train_data, train_labels)\n",
    "#sigma2[0,:,:].shape\n",
    "sigma3 = np.array(sigma2)\n",
    "non_zero = (sigma3[0,:,:] != 0)\n",
    "print(non_zero.shape)\n",
    "print(np.sum(non_zero))\n",
    "print(np.linalg.det(sigma3[2]))\n",
    "print(np.linalg.det(sigma3[2,:,:]))\n",
    "print(mu2.shape)\n",
    "\n",
    "print(sigma3[0,100,100])\n",
    "extra = np.eye(sigma3.shape[1])\n",
    "print(extra)\n",
    "print(extra.shape)\n",
    "\n",
    "cc = 1\n",
    "extra_c = 0.000005\n",
    "print('before adding extra c, det = ', np.linalg.det(sigma3[0]))\n",
    "for i in range(sigma3.shape[1]):\n",
    "    sigma3[0,i,i] = sigma3[0,i,i] + extra_c\n",
    "sign, logdet = np.linalg.slogdet(sigma3[0])\n",
    "print('logdet = ', logdet)\n",
    "det = np.exp(logdet)\n",
    "print('after adding extra c, det = ', det)\n"
   ]
  },
  {
   "cell_type": "code",
   "execution_count": 80,
   "metadata": {
    "collapsed": true
   },
   "outputs": [],
   "source": [
    "def fit_generative_model(x, y):\n",
    "    k = 10\n",
    "    d = (x.shape)[1]\n",
    "    mu = np.zeros((k, d))\n",
    "    sigma = np.zeros((k, d,d ))\n",
    "    pi = np.zeros(k)\n",
    "    \n",
    "    # calculate mu, sigma, pi\n",
    "    for label in range(k):\n",
    "        indices = (y==label)\n",
    "        mu[label] = np.mean(x[indices,:], axis=0)\n",
    "        sigma[label] = np.cov(x[indices,:], rowvar=0, bias=1)\n",
    "        pi[label] = float(sum(y==label))/float(len(y))\n",
    "        \n",
    "    # with these sets, choose the best c\n",
    "    ## my code to select a good c\n",
    "    # 1. init c, set up a multivariate guassian for the subset, test the validation set,\n",
    "    # 2. choose the c which has the lowest error among the validation set\n",
    "    best_c = choose_c(mu, sigma, pi)\n",
    "    for label in range(k):\n",
    "        sigma[label,:,:] = sigma[label,:,:] + best_c * np.eye((d))\n",
    "    return mu, sigma, pi"
   ]
  },
  {
   "cell_type": "code",
   "execution_count": 86,
   "metadata": {},
   "outputs": [
    {
     "name": "stderr",
     "output_type": "stream",
     "text": [
      "/Users/r38411/anaconda2/envs/py35/lib/python3.5/site-packages/numpy/linalg/linalg.py:2022: RuntimeWarning: overflow encountered in det\n",
      "  r = _umath_linalg.det(a, signature=signature)\n"
     ]
    },
    {
     "name": "stdout",
     "output_type": "stream",
     "text": [
      "[  0.1          0.14384499   0.20691381   0.29763514   0.42813324\n",
      "   0.61584821   0.88586679   1.27427499   1.83298071   2.6366509\n",
      "   3.79269019   5.45559478   7.8475997   11.28837892  16.23776739\n",
      "  23.35721469  33.59818286  48.32930239  69.51927962 100.        ]\n",
      "0.1\n",
      "Your model makes 9771errors out of 10000\n",
      "9771\n"
     ]
    }
   ],
   "source": [
    "mu, sigma, pi = fit_generative_model(train_data, train_labels)\n",
    "err = test_model(mu, sigma, pi, train_data, train_labels)\n",
    "print(err)\n",
    "#displaychar(mu[0])\n",
    "#displaychar(mu[1])\n",
    "#displaychar(mu[2])"
   ]
  },
  {
   "cell_type": "code",
   "execution_count": null,
   "metadata": {
    "collapsed": true
   },
   "outputs": [],
   "source": [
    "err = test_model()"
   ]
  }
 ],
 "metadata": {
  "kernelspec": {
   "display_name": "Python 3",
   "language": "python",
   "name": "python3"
  },
  "language_info": {
   "codemirror_mode": {
    "name": "ipython",
    "version": 3
   },
   "file_extension": ".py",
   "mimetype": "text/x-python",
   "name": "python",
   "nbconvert_exporter": "python",
   "pygments_lexer": "ipython3",
   "version": "3.5.4"
  }
 },
 "nbformat": 4,
 "nbformat_minor": 2
}
