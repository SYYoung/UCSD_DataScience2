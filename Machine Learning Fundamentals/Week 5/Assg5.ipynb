{
 "cells": [
  {
   "cell_type": "code",
   "execution_count": 1,
   "metadata": {
    "collapsed": true
   },
   "outputs": [],
   "source": [
    "%matplotlib inline\n",
    "import numpy as np\n",
    "import matplotlib\n",
    "import matplotlib.pyplot as plt\n",
    "from sklearn import linear_model\n",
    "from sklearn.metrics import mean_squared_error\n",
    "\n",
    "matplotlib.rc('xtick', labelsize=14)\n",
    "matplotlib.rc('ytick', labelsize=14)"
   ]
  },
  {
   "cell_type": "code",
   "execution_count": 13,
   "metadata": {
    "collapsed": true
   },
   "outputs": [],
   "source": [
    "def generate_data(n):\n",
    "    d = 100\n",
    "    w = np.zeros(d)\n",
    "    for i in range(0,10):\n",
    "        w[i] = 1.0\n",
    "    x0 = np.ones((n,1))\n",
    "    trainx = np.random.normal(size=(n,d))\n",
    "    e = np.random.random(size=(n))\n",
    "    trainy = np.dot(trainx, w) + e\n",
    "    trainx =np.concatenate((x0,trainx), axis=1)\n",
    "    \n",
    "    return trainx, trainy"
   ]
  },
  {
   "cell_type": "code",
   "execution_count": 14,
   "metadata": {},
   "outputs": [
    {
     "name": "stdout",
     "output_type": "stream",
     "text": [
      "(200, 101) (200,)\n"
     ]
    }
   ],
   "source": [
    "train_x, train_y = generate_data(200)\n",
    "print(train_x.shape, train_y.shape)"
   ]
  },
  {
   "cell_type": "code",
   "execution_count": 3,
   "metadata": {},
   "outputs": [
    {
     "name": "stdout",
     "output_type": "stream",
     "text": [
      "[ 8 18 28 38]\n",
      "[2 2 2 2]\n",
      "[4 4 4 4]\n",
      "16\n"
     ]
    }
   ],
   "source": [
    "y = [10,20,30,40]\n",
    "x = [[1,2],[3,4],[5,6],[7,8]]\n",
    "w = [2,3]\n",
    "c1 = np.matmul(x,w)\n",
    "c2 = np.square(c1)\n",
    "c3 = np.square(y-np.matmul(x,w))\n",
    "print(np.matmul(x,w))\n",
    "print(y-np.matmul(x,w))\n",
    "print(np.square(y-np.matmul(x,w)))\n",
    "print(sum(np.square(y-np.matmul(x,w))))"
   ]
  },
  {
   "cell_type": "code",
   "execution_count": 30,
   "metadata": {
    "collapsed": true
   },
   "outputs": [],
   "source": [
    "def cal_loss(x,y,w,C):\n",
    "    loss_no_reg = sum(np.square(y-np.matmul(x,w)))\n",
    "    adjust = C * np.dot(w,w)\n",
    "    loss = loss_no_reg + adjust\n",
    "    return loss"
   ]
  },
  {
   "cell_type": "code",
   "execution_count": 34,
   "metadata": {
    "collapsed": true
   },
   "outputs": [],
   "source": [
    "def grad_des(x,y,w,C):\n",
    "    grad = np.zeros(len(w))\n",
    "    r = y - np.matmul(x,w)\n",
    "    for i in range(len(w)):\n",
    "        grad[i] = -2*(np.dot(r,x[:,i])) \n",
    "    temp = grad[0]\n",
    "    grad = grad + 2*C*w\n",
    "    grad[0] = temp\n",
    "    return grad"
   ]
  },
  {
   "cell_type": "code",
   "execution_count": 46,
   "metadata": {
    "collapsed": true
   },
   "outputs": [],
   "source": [
    "def ridge_regression_GD(x,y,C):\n",
    "    w = np.zeros(x.shape[1])\n",
    "    step = 0.001\n",
    "    num_iter = 1000\n",
    "    losses = np.zeros(num_iter)\n",
    "    tol = 2**(-20)\n",
    "    i = 0\n",
    "    loss = 100000\n",
    "    while ((loss > tol) and (i < num_iter)):\n",
    "        grad = grad_des(x,y,w,C)\n",
    "        w = w - step * grad\n",
    "        loss = cal_loss(x,y,w,C)\n",
    "        losses[i] = loss\n",
    "        if (loss < losses[i-1]):\n",
    "            # increase the step size\n",
    "            step = 2 * step\n",
    "        else:\n",
    "            step = 0.5 * step\n",
    "        i = i+1\n",
    "    return w[1:], w[0], losses"
   ]
  },
  {
   "cell_type": "code",
   "execution_count": 47,
   "metadata": {},
   "outputs": [
    {
     "name": "stdout",
     "output_type": "stream",
     "text": [
      "w =  [ 9.87580636e-01  1.03708141e+00  1.00002807e+00  9.44152968e-01\n",
      "  9.73003511e-01  9.71965291e-01  9.65423434e-01  1.01653816e+00\n",
      "  1.00946806e+00  9.79449429e-01 -2.96929381e-02 -4.13011623e-02\n",
      "  2.69311119e-02  1.50398212e-02 -6.14480442e-03 -7.26375357e-03\n",
      " -7.36919708e-03  3.74986138e-03  6.69773967e-04 -7.12038187e-03]\n",
      "losses =  [544.9214637  392.84999487 214.92826696  82.17810194  32.50930189\n",
      "  63.3545494  446.58462879 699.96714796  36.90775528  48.88180911\n",
      "  19.97002576  20.40426967  19.07853021  19.01566543  19.5826979\n",
      "  20.10646239  18.78477323  18.77467622  19.4368801   20.0009356\n",
      "  18.66182295  18.67281164  18.60637351  18.59554518  18.6080903\n",
      "  18.62844419  18.56441983  18.56033919  18.58436002  18.60921572\n",
      "  18.54550271  18.5444581   18.57405492  18.60129237  18.5369477\n",
      "  18.53729828  18.53385066  18.53308934  18.5331075   18.53411172\n",
      "  18.53086774  18.53059105  18.53141906  18.53273828  18.52955041\n",
      "  18.52949512  18.53070907  18.53218822  18.52898796  18.52903328]\n"
     ]
    }
   ],
   "source": [
    "n = 200\n",
    "x,y = generate_data(n)\n",
    "C = 1.0\n",
    "w,b,losses = ridge_regression_GD(x,y,C)\n",
    "print('w = ', w[0:20])\n",
    "print('losses = ', losses[:50])"
   ]
  },
  {
   "cell_type": "code",
   "execution_count": 48,
   "metadata": {},
   "outputs": [
    {
     "data": {
      "image/png": "[encoded data removed]",
      "text/plain": [
       "<Figure size 432x288 with 1 Axes>"
      ]
     },
     "metadata": {
      "needs_background": "light"
     },
     "output_type": "display_data"
    }
   ],
   "source": [
    "plt.plot(losses, 'r')\n",
    "plt.xlabel('Iterations', fontsize=14)\n",
    "plt.ylabel('Loss', fontsize=14)\n",
    "plt.show()"
   ]
  },
  {
   "cell_type": "code",
   "execution_count": 49,
   "metadata": {},
   "outputs": [
    {
     "data": {
      "image/png": "[encoded data removed]",
      "text/plain": [
       "<Figure size 432x288 with 1 Axes>"
      ]
     },
     "metadata": {
      "needs_background": "light"
     },
     "output_type": "display_data"
    }
   ],
   "source": [
    "plt.plot(losses[:40], 'r')\n",
    "plt.xlabel('Iterations', fontsize=14)\n",
    "plt.ylabel('Loss', fontsize=14)\n",
    "plt.show()"
   ]
  },
  {
   "cell_type": "code",
   "execution_count": 53,
   "metadata": {},
   "outputs": [
    {
     "data": {
      "text/plain": [
       "array([544.9214637 , 392.84999487, 214.92826696,  82.17810194,\n",
       "        32.50930189,  63.3545494 , 446.58462879, 699.96714796,\n",
       "        36.90775528,  48.88180911,  19.97002576,  20.40426967,\n",
       "        19.07853021,  19.01566543,  19.5826979 ,  20.10646239,\n",
       "        18.78477323,  18.77467622,  19.4368801 ,  20.0009356 ,\n",
       "        18.66182295,  18.67281164,  18.60637351,  18.59554518,\n",
       "        18.6080903 ,  18.62844419,  18.56441983,  18.56033919,\n",
       "        18.58436002,  18.60921572,  18.54550271,  18.5444581 ,\n",
       "        18.57405492,  18.60129237,  18.5369477 ,  18.53729828,\n",
       "        18.53385066,  18.53308934,  18.5331075 ,  18.53411172,\n",
       "        18.53086774,  18.53059105,  18.53141906,  18.53273828,\n",
       "        18.52955041,  18.52949512,  18.53070907,  18.53218822,\n",
       "        18.52898796,  18.52903328])"
      ]
     },
     "execution_count": 53,
     "metadata": {},
     "output_type": "execute_result"
    }
   ],
   "source": [
    "losses[0:50]"
   ]
  },
  {
   "cell_type": "code",
   "execution_count": 54,
   "metadata": {},
   "outputs": [
    {
     "data": {
      "text/plain": [
       "9.5367431640625e-07"
      ]
     },
     "execution_count": 54,
     "metadata": {},
     "output_type": "execute_result"
    }
   ],
   "source": [
    "2**(-20)"
   ]
  },
  {
   "cell_type": "code",
   "execution_count": 62,
   "metadata": {
    "collapsed": true
   },
   "outputs": [],
   "source": [
    "def compute_mse(w,b,x,y,n):\n",
    "    residuals = y - (np.dot(x,w)+b)\n",
    "    return np.dot(residuals,residuals)/n"
   ]
  },
  {
   "cell_type": "code",
   "execution_count": 64,
   "metadata": {},
   "outputs": [
    {
     "name": "stdout",
     "output_type": "stream",
     "text": [
      "MSE of gradient descent solver:  0.041865873554949015\n",
      "MSE of built-in solver:  0.04183412603554106\n",
      "Distance between w-coefficients:  0.0037040700913346636\n"
     ]
    }
   ],
   "source": [
    "n = 200\n",
    "x,y = generate_data(n)\n",
    "C = 1.0\n",
    "w,b,losses = ridge_regression_GD(x,y,C)\n",
    "\n",
    "x_data = x[:,1:]\n",
    "regr = linear_model.Ridge(alpha=C)\n",
    "regr.fit(x_data,y)\n",
    "\n",
    "print(\"MSE of gradient descent solver: \", compute_mse(w,b,x_data,y,n))\n",
    "print(\"MSE of built-in solver: \", mean_squared_error(regr.predict(x_data),y))\n",
    "print(\"Distance between w-coefficients: \", np.linalg.norm(w-regr.coef_))"
   ]
  },
  {
   "cell_type": "code",
   "execution_count": 70,
   "metadata": {},
   "outputs": [
    {
     "data": {
      "text/plain": [
       "(100,)"
      ]
     },
     "execution_count": 70,
     "metadata": {},
     "output_type": "execute_result"
    }
   ],
   "source": [
    "regr.coef_.shape"
   ]
  },
  {
   "cell_type": "code",
   "execution_count": 71,
   "metadata": {},
   "outputs": [
    {
     "data": {
      "text/plain": [
       "array([ 0.96467189,  1.03529148,  1.02048683,  0.99256942,  0.97648394,\n",
       "        0.94602731,  0.99849805,  0.9526311 ,  0.98749039,  0.95656019,\n",
       "        0.02122544,  0.01119894,  0.0186279 ,  0.0166318 ,  0.03977186,\n",
       "       -0.01946345,  0.05073592,  0.00668237,  0.03308057,  0.00965428])"
      ]
     },
     "execution_count": 71,
     "metadata": {},
     "output_type": "execute_result"
    }
   ],
   "source": [
    "regr.coef_[:20]"
   ]
  },
  {
   "cell_type": "code",
   "execution_count": 72,
   "metadata": {},
   "outputs": [
    {
     "data": {
      "text/plain": [
       "array([ 0.96509456,  1.03532154,  1.02016577,  0.99318665,  0.97588464,\n",
       "        0.94610522,  0.9988039 ,  0.95299581,  0.98712107,  0.95668422,\n",
       "        0.02129449,  0.01092319,  0.01857272,  0.01653748,  0.04035294,\n",
       "       -0.02022212,  0.05065741,  0.00660941,  0.03366237,  0.00943757])"
      ]
     },
     "execution_count": 72,
     "metadata": {},
     "output_type": "execute_result"
    }
   ],
   "source": [
    "w[:20]"
   ]
  },
  {
   "cell_type": "code",
   "execution_count": null,
   "metadata": {
    "collapsed": true
   },
   "outputs": [],
   "source": []
  }
 ],
 "metadata": {
  "kernelspec": {
   "display_name": "Python 3",
   "language": "python",
   "name": "python3"
  },
  "language_info": {
   "codemirror_mode": {
    "name": "ipython",
    "version": 3
   },
   "file_extension": ".py",
   "mimetype": "text/x-python",
   "name": "python",
   "nbconvert_exporter": "python",
   "pygments_lexer": "ipython3",
   "version": "3.5.4"
  }
 },
 "nbformat": 4,
 "nbformat_minor": 2
}
