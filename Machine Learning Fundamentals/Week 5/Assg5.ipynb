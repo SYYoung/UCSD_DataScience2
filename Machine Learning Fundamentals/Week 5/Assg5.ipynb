{
 "cells": [
  {
   "cell_type": "code",
   "execution_count": 1,
   "metadata": {
    "collapsed": true
   },
   "outputs": [],
   "source": [
    "%matplotlib inline\n",
    "import numpy as np\n",
    "import matplotlib\n",
    "import matplotlib.pyplot as plt\n",
    "from sklearn import linear_model\n",
    "from sklearn.metrics import mean_squared_error\n",
    "\n",
    "matplotlib.rc('xtick', labelsize=14)\n",
    "matplotlib.rc('ytick', labelsize=14)"
   ]
  },
  {
   "cell_type": "code",
   "execution_count": 13,
   "metadata": {
    "collapsed": true
   },
   "outputs": [],
   "source": [
    "def generate_data(n):\n",
    "    d = 100\n",
    "    w = np.zeros(d)\n",
    "    for i in range(0,10):\n",
    "        w[i] = 1.0\n",
    "    x0 = np.ones((n,1))\n",
    "    trainx = np.random.normal(size=(n,d))\n",
    "    e = np.random.random(size=(n))\n",
    "    trainy = np.dot(trainx, w) + e\n",
    "    trainx =np.concatenate((x0,trainx), axis=1)\n",
    "    \n",
    "    return trainx, trainy"
   ]
  },
  {
   "cell_type": "code",
   "execution_count": 14,
   "metadata": {},
   "outputs": [
    {
     "name": "stdout",
     "output_type": "stream",
     "text": [
      "(200, 101) (200,)\n"
     ]
    }
   ],
   "source": [
    "train_x, train_y = generate_data(200)\n",
    "print(train_x.shape, train_y.shape)"
   ]
  },
  {
   "cell_type": "code",
   "execution_count": 3,
   "metadata": {},
   "outputs": [
    {
     "name": "stdout",
     "output_type": "stream",
     "text": [
      "[ 8 18 28 38]\n",
      "[2 2 2 2]\n",
      "[4 4 4 4]\n",
      "16\n"
     ]
    }
   ],
   "source": [
    "y = [10,20,30,40]\n",
    "x = [[1,2],[3,4],[5,6],[7,8]]\n",
    "w = [2,3]\n",
    "c1 = np.matmul(x,w)\n",
    "c2 = np.square(c1)\n",
    "c3 = np.square(y-np.matmul(x,w))\n",
    "print(np.matmul(x,w))\n",
    "print(y-np.matmul(x,w))\n",
    "print(np.square(y-np.matmul(x,w)))\n",
    "print(sum(np.square(y-np.matmul(x,w))))"
   ]
  },
  {
   "cell_type": "code",
   "execution_count": 30,
   "metadata": {
    "collapsed": true
   },
   "outputs": [],
   "source": [
    "def cal_loss(x,y,w,C):\n",
    "    loss_no_reg = sum(np.square(y-np.matmul(x,w)))\n",
    "    adjust = C * np.dot(w,w)\n",
    "    loss = loss_no_reg + adjust\n",
    "    return loss"
   ]
  },
  {
   "cell_type": "code",
   "execution_count": 34,
   "metadata": {
    "collapsed": true
   },
   "outputs": [],
   "source": [
    "def grad_des(x,y,w,C):\n",
    "    grad = np.zeros(len(w))\n",
    "    r = y - np.matmul(x,w)\n",
    "    for i in range(len(w)):\n",
    "        grad[i] = -2*(np.dot(r,x[:,i])) \n",
    "    temp = grad[0]\n",
    "    grad = grad + 2*C*w\n",
    "    grad[0] = temp\n",
    "    return grad"
   ]
  },
  {
   "cell_type": "code",
   "execution_count": 37,
   "metadata": {
    "collapsed": true
   },
   "outputs": [],
   "source": [
    "def ridge_regression_GD(x,y,C):\n",
    "    w = np.zeros(x.shape[1])\n",
    "    step = 0.001\n",
    "    num_iter = 1000\n",
    "    losses = np.zeros(num_iter)\n",
    "    tol = 2**(-20)\n",
    "    i = 0\n",
    "    loss = 100000\n",
    "    while ((loss > tol) and (i < num_iter)):\n",
    "        grad = grad_des(x,y,w,C)\n",
    "        w = w - step * grad\n",
    "        loss = cal_loss(x,y,w,C)\n",
    "        losses[i] = loss\n",
    "        i = i+1\n",
    "    return w[1:], w[0], losses"
   ]
  },
  {
   "cell_type": "code",
   "execution_count": 38,
   "metadata": {},
   "outputs": [
    {
     "name": "stdout",
     "output_type": "stream",
     "text": [
      "w =  [ 0.98025503  0.97523169  0.95234104  0.98676582  0.97135811  1.00884611\n",
      "  0.9460191   1.01792443  0.94780232  1.01173493  0.02929615 -0.00419184\n",
      "  0.0511782   0.03061738 -0.00638565 -0.05563992  0.06709269  0.01427351\n",
      "  0.0194406   0.00946864]\n",
      "losses =  [464.1134578  229.92017937 146.02658953 105.30707101  81.96437401\n",
      "  67.02437608  56.71083959  49.20829751  43.5471205   39.16260909\n",
      "  35.70157954  32.93001423  30.6855951   28.85163494  27.34187753\n",
      "  26.09115111  25.04934999  24.17740497  23.44449615  22.82607235\n",
      "  22.30241211  21.85755856  21.47851847  21.15465205  20.87720256\n",
      "  20.63893011  20.43382399  20.25687505  20.10389411  19.97136636\n",
      "  19.85633389  19.75630038  19.66915344  19.5931011   19.52661954\n",
      "  19.46841005  19.41736334  19.37252997  19.33309569  19.29836083\n",
      "  19.26772307  19.24066296  19.21673173  19.19554102  19.17675419\n",
      "  19.16007896  19.14526118  19.1320795   19.12034083  19.10987655]\n"
     ]
    }
   ],
   "source": [
    "n = 200\n",
    "x,y = generate_data(n)\n",
    "C = 1.0\n",
    "w,b,losses = ridge_regression_GD(x,y,C)\n",
    "print('w = ', w[0:20])\n",
    "print('losses = ', losses[:50])"
   ]
  },
  {
   "cell_type": "code",
   "execution_count": 39,
   "metadata": {},
   "outputs": [
    {
     "data": {
      "image/png": "[encoded data removed]",
      "text/plain": [
       "<Figure size 432x288 with 1 Axes>"
      ]
     },
     "metadata": {
      "needs_background": "light"
     },
     "output_type": "display_data"
    }
   ],
   "source": [
    "plt.plot(losses, 'r')\n",
    "plt.xlabel('Iterations', fontsize=14)\n",
    "plt.ylabel('Loss', fontsize=14)\n",
    "plt.show()"
   ]
  },
  {
   "cell_type": "code",
   "execution_count": 7,
   "metadata": {},
   "outputs": [
    {
     "data": {
      "text/plain": [
       "(200, 100)"
      ]
     },
     "execution_count": 7,
     "metadata": {},
     "output_type": "execute_result"
    }
   ],
   "source": [
    "x.shape"
   ]
  },
  {
   "cell_type": "code",
   "execution_count": null,
   "metadata": {
    "collapsed": true
   },
   "outputs": [],
   "source": []
  }
 ],
 "metadata": {
  "kernelspec": {
   "display_name": "Python 3",
   "language": "python",
   "name": "python3"
  },
  "language_info": {
   "codemirror_mode": {
    "name": "ipython",
    "version": 3
   },
   "file_extension": ".py",
   "mimetype": "text/x-python",
   "name": "python",
   "nbconvert_exporter": "python",
   "pygments_lexer": "ipython3",
   "version": "3.5.4"
  }
 },
 "nbformat": 4,
 "nbformat_minor": 2
}
