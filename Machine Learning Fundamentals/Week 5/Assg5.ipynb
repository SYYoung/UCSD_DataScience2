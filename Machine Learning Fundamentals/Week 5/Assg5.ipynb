{
 "cells": [
  {
   "cell_type": "code",
   "execution_count": 1,
   "metadata": {
    "collapsed": true
   },
   "outputs": [],
   "source": [
    "%matplotlib inline\n",
    "import numpy as np\n",
    "import matplotlib\n",
    "import matplotlib.pyplot as plt\n",
    "from sklearn import linear_model\n",
    "from sklearn.metrics import mean_squared_error\n",
    "\n",
    "matplotlib.rc('xtick', labelsize=14)\n",
    "matplotlib.rc('ytick', labelsize=14)"
   ]
  },
  {
   "cell_type": "code",
   "execution_count": 13,
   "metadata": {
    "collapsed": true
   },
   "outputs": [],
   "source": [
    "def generate_data(n):\n",
    "    d = 100\n",
    "    w = np.zeros(d)\n",
    "    for i in range(0,10):\n",
    "        w[i] = 1.0\n",
    "    x0 = np.ones((n,1))\n",
    "    trainx = np.random.normal(size=(n,d))\n",
    "    e = np.random.random(size=(n))\n",
    "    trainy = np.dot(trainx, w) + e\n",
    "    trainx =np.concatenate((x0,trainx), axis=1)\n",
    "    \n",
    "    return trainx, trainy"
   ]
  },
  {
   "cell_type": "code",
   "execution_count": 14,
   "metadata": {},
   "outputs": [
    {
     "name": "stdout",
     "output_type": "stream",
     "text": [
      "(200, 101) (200,)\n"
     ]
    }
   ],
   "source": [
    "train_x, train_y = generate_data(200)\n",
    "print(train_x.shape, train_y.shape)"
   ]
  },
  {
   "cell_type": "code",
   "execution_count": 3,
   "metadata": {},
   "outputs": [
    {
     "name": "stdout",
     "output_type": "stream",
     "text": [
      "[ 8 18 28 38]\n",
      "[2 2 2 2]\n",
      "[4 4 4 4]\n",
      "16\n"
     ]
    }
   ],
   "source": [
    "y = [10,20,30,40]\n",
    "x = [[1,2],[3,4],[5,6],[7,8]]\n",
    "w = [2,3]\n",
    "c1 = np.matmul(x,w)\n",
    "c2 = np.square(c1)\n",
    "c3 = np.square(y-np.matmul(x,w))\n",
    "print(np.matmul(x,w))\n",
    "print(y-np.matmul(x,w))\n",
    "print(np.square(y-np.matmul(x,w)))\n",
    "print(sum(np.square(y-np.matmul(x,w))))"
   ]
  },
  {
   "cell_type": "code",
   "execution_count": 30,
   "metadata": {
    "collapsed": true
   },
   "outputs": [],
   "source": [
    "def cal_loss(x,y,w,C):\n",
    "    loss_no_reg = sum(np.square(y-np.matmul(x,w)))\n",
    "    adjust = C * np.dot(w,w)\n",
    "    loss = loss_no_reg + adjust\n",
    "    return loss"
   ]
  },
  {
   "cell_type": "code",
   "execution_count": 34,
   "metadata": {
    "collapsed": true
   },
   "outputs": [],
   "source": [
    "def grad_des(x,y,w,C):\n",
    "    grad = np.zeros(len(w))\n",
    "    r = y - np.matmul(x,w)\n",
    "    for i in range(len(w)):\n",
    "        grad[i] = -2*(np.dot(r,x[:,i])) \n",
    "    temp = grad[0]\n",
    "    grad = grad + 2*C*w\n",
    "    grad[0] = temp\n",
    "    return grad"
   ]
  },
  {
   "cell_type": "code",
   "execution_count": 46,
   "metadata": {
    "collapsed": true
   },
   "outputs": [],
   "source": [
    "def ridge_regression_GD(x,y,C):\n",
    "    w = np.zeros(x.shape[1])\n",
    "    step = 0.001\n",
    "    num_iter = 1000\n",
    "    losses = np.zeros(num_iter)\n",
    "    tol = 2**(-20)\n",
    "    i = 0\n",
    "    loss = 100000\n",
    "    while ((loss > tol) and (i < num_iter)):\n",
    "        grad = grad_des(x,y,w,C)\n",
    "        w = w - step * grad\n",
    "        loss = cal_loss(x,y,w,C)\n",
    "        losses[i] = loss\n",
    "        if (loss < losses[i-1]):\n",
    "            # increase the step size\n",
    "            step = 2 * step\n",
    "        else:\n",
    "            step = 0.5 * step\n",
    "        i = i+1\n",
    "    return w[1:], w[0], losses"
   ]
  },
  {
   "cell_type": "code",
   "execution_count": 79,
   "metadata": {},
   "outputs": [
    {
     "name": "stdout",
     "output_type": "stream",
     "text": [
      "w =  [ 0.98718111  0.9144269   0.93680998  0.93334465  0.94076401  0.92142846\n",
      "  0.96827268  0.87623126  0.94433605  0.88303325 -0.00118461 -0.04405764\n",
      "  0.04456546  0.00523332  0.00802316  0.0237537   0.02546261 -0.03179264\n",
      "  0.01263963 -0.01915768]\n",
      "losses =  [ 559.40096315  408.56413384  251.19041907  154.28898811  116.03632929\n",
      "  134.44875196  188.35186618  127.58202938  225.48278215  205.70375013\n",
      " 1080.95207661 1357.72935372  117.89581803  121.21116522  107.04673562\n",
      "  107.11823749  106.93513139  106.93570138  106.93231442  106.93227212\n",
      "  106.93150013  106.95323922  107.09075277  107.19187936  106.93513056\n",
      "  106.93905642  106.93457812  106.93519266  106.93504649  106.93527972\n",
      "  106.93534783  106.93539144  106.93541241  106.93542273  106.93542785\n",
      "  106.93543041  106.93543168  106.93543231  106.93543263  106.93543279\n",
      "  106.93543287  106.93543291  106.93543293  106.93543294  106.93543295\n",
      "  106.93543295  106.93543295  106.93543295  106.93543295  106.93543295]\n"
     ]
    }
   ],
   "source": [
    "n = 200\n",
    "x,y = generate_data(n)\n",
    "C = 10.0\n",
    "w,b,losses = ridge_regression_GD(x,y,C)\n",
    "print('w = ', w[0:20])\n",
    "print('losses = ', losses[:50])"
   ]
  },
  {
   "cell_type": "code",
   "execution_count": 80,
   "metadata": {},
   "outputs": [
    {
     "data": {
      "image/png": "[encoded data removed]",
      "text/plain": [
       "<Figure size 432x288 with 1 Axes>"
      ]
     },
     "metadata": {
      "needs_background": "light"
     },
     "output_type": "display_data"
    }
   ],
   "source": [
    "plt.plot(losses, 'r')\n",
    "plt.xlabel('Iterations', fontsize=14)\n",
    "plt.ylabel('Loss', fontsize=14)\n",
    "plt.show()"
   ]
  },
  {
   "cell_type": "code",
   "execution_count": 49,
   "metadata": {},
   "outputs": [
    {
     "data": {
      "image/png": "[encoded data removed]",
      "text/plain": [
       "<Figure size 432x288 with 1 Axes>"
      ]
     },
     "metadata": {
      "needs_background": "light"
     },
     "output_type": "display_data"
    }
   ],
   "source": [
    "plt.plot(losses[:40], 'r')\n",
    "plt.xlabel('Iterations', fontsize=14)\n",
    "plt.ylabel('Loss', fontsize=14)\n",
    "plt.show()"
   ]
  },
  {
   "cell_type": "code",
   "execution_count": 53,
   "metadata": {},
   "outputs": [
    {
     "data": {
      "text/plain": [
       "array([544.9214637 , 392.84999487, 214.92826696,  82.17810194,\n",
       "        32.50930189,  63.3545494 , 446.58462879, 699.96714796,\n",
       "        36.90775528,  48.88180911,  19.97002576,  20.40426967,\n",
       "        19.07853021,  19.01566543,  19.5826979 ,  20.10646239,\n",
       "        18.78477323,  18.77467622,  19.4368801 ,  20.0009356 ,\n",
       "        18.66182295,  18.67281164,  18.60637351,  18.59554518,\n",
       "        18.6080903 ,  18.62844419,  18.56441983,  18.56033919,\n",
       "        18.58436002,  18.60921572,  18.54550271,  18.5444581 ,\n",
       "        18.57405492,  18.60129237,  18.5369477 ,  18.53729828,\n",
       "        18.53385066,  18.53308934,  18.5331075 ,  18.53411172,\n",
       "        18.53086774,  18.53059105,  18.53141906,  18.53273828,\n",
       "        18.52955041,  18.52949512,  18.53070907,  18.53218822,\n",
       "        18.52898796,  18.52903328])"
      ]
     },
     "execution_count": 53,
     "metadata": {},
     "output_type": "execute_result"
    }
   ],
   "source": [
    "losses[0:50]"
   ]
  },
  {
   "cell_type": "code",
   "execution_count": 54,
   "metadata": {},
   "outputs": [
    {
     "data": {
      "text/plain": [
       "9.5367431640625e-07"
      ]
     },
     "execution_count": 54,
     "metadata": {},
     "output_type": "execute_result"
    }
   ],
   "source": [
    "2**(-20)"
   ]
  },
  {
   "cell_type": "code",
   "execution_count": 62,
   "metadata": {
    "collapsed": true
   },
   "outputs": [],
   "source": [
    "def compute_mse(w,b,x,y,n):\n",
    "    residuals = y - (np.dot(x,w)+b)\n",
    "    return np.dot(residuals,residuals)/n"
   ]
  },
  {
   "cell_type": "code",
   "execution_count": 74,
   "metadata": {},
   "outputs": [
    {
     "name": "stdout",
     "output_type": "stream",
     "text": [
      "MSE of gradient descent solver:  0.07248874979491894\n",
      "MSE of built-in solver:  0.07256123223459043\n",
      "Distance between w-coefficients:  0.0033328167022276907\n"
     ]
    }
   ],
   "source": [
    "n = 200\n",
    "x,y = generate_data(n)\n",
    "C = 10.0\n",
    "w,b,losses = ridge_regression_GD(x,y,C)\n",
    "\n",
    "x_data = x[:,1:]\n",
    "regr = linear_model.Ridge(alpha=C)\n",
    "regr.fit(x_data,y)\n",
    "\n",
    "print(\"MSE of gradient descent solver: \", compute_mse(w,b,x_data,y,n))\n",
    "print(\"MSE of built-in solver: \", mean_squared_error(regr.predict(x_data),y))\n",
    "print(\"Distance between w-coefficients: \", np.linalg.norm(w-regr.coef_))"
   ]
  },
  {
   "cell_type": "code",
   "execution_count": 75,
   "metadata": {},
   "outputs": [
    {
     "data": {
      "text/plain": [
       "(100,)"
      ]
     },
     "execution_count": 75,
     "metadata": {},
     "output_type": "execute_result"
    }
   ],
   "source": [
    "regr.coef_.shape"
   ]
  },
  {
   "cell_type": "code",
   "execution_count": 76,
   "metadata": {},
   "outputs": [
    {
     "data": {
      "text/plain": [
       "array([ 0.91839314,  0.94308506,  0.9504054 ,  0.89138427,  0.92475613,\n",
       "        0.89660924,  0.90941405,  0.90105446,  0.94732099,  0.97239934,\n",
       "        0.02611566, -0.02488107,  0.03756228, -0.03869199,  0.05155247,\n",
       "       -0.06972227, -0.03963925, -0.01436715,  0.04042238,  0.05527831])"
      ]
     },
     "execution_count": 76,
     "metadata": {},
     "output_type": "execute_result"
    }
   ],
   "source": [
    "regr.coef_[:20]"
   ]
  },
  {
   "cell_type": "code",
   "execution_count": 77,
   "metadata": {},
   "outputs": [
    {
     "data": {
      "text/plain": [
       "array([ 0.9180461 ,  0.9436129 ,  0.95101787,  0.89125854,  0.9251209 ,\n",
       "        0.89677858,  0.90924103,  0.90094831,  0.94738699,  0.97238768,\n",
       "        0.02659816, -0.02481201,  0.03796096, -0.03845652,  0.05132057,\n",
       "       -0.06964347, -0.03982436, -0.0145533 ,  0.04051578,  0.05575456])"
      ]
     },
     "execution_count": 77,
     "metadata": {},
     "output_type": "execute_result"
    }
   ],
   "source": [
    "w[:20]"
   ]
  },
  {
   "cell_type": "code",
   "execution_count": 78,
   "metadata": {},
   "outputs": [
    {
     "data": {
      "text/plain": [
       "0.5177144858516904"
      ]
     },
     "execution_count": 78,
     "metadata": {},
     "output_type": "execute_result"
    }
   ],
   "source": [
    "losses[200]/200"
   ]
  },
  {
   "cell_type": "code",
   "execution_count": null,
   "metadata": {
    "collapsed": true
   },
   "outputs": [],
   "source": []
  }
 ],
 "metadata": {
  "kernelspec": {
   "display_name": "Python 3",
   "language": "python",
   "name": "python3"
  },
  "language_info": {
   "codemirror_mode": {
    "name": "ipython",
    "version": 3
   },
   "file_extension": ".py",
   "mimetype": "text/x-python",
   "name": "python",
   "nbconvert_exporter": "python",
   "pygments_lexer": "ipython3",
   "version": "3.5.4"
  }
 },
 "nbformat": 4,
 "nbformat_minor": 2
}
